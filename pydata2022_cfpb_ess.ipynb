{
 "cells": [
  {
   "cell_type": "markdown",
   "id": "012fb9b9",
   "metadata": {},
   "source": [
    "# PyData Miami 2022 - CFPB Enterprise Semantic Search\n",
    "09/22/2022\n",
    "\n",
    "* pydata2022_cfpb_ess.ipynb\n",
    "* https://pydata.org/miami2022/\n",
    "* https://nelscorrea.github.io/PyData_Miami_2022\n"
   ]
  },
  {
   "cell_type": "code",
   "execution_count": 1,
   "id": "b1a5aa63",
   "metadata": {},
   "outputs": [],
   "source": [
    "import numpy as np\n",
    "import pandas as pd\n",
    "import sklearn as sklearn\n",
    "\n",
    "import datasets as hfds\n",
    "import transformers as hf\n",
    "\n",
    "import tensorflow as tf\n",
    "\n",
    "import copy, os, re, sys\n",
    "from datetime import datetime\n",
    "from umap import UMAP\n",
    "# from tqdm import tqdm\n",
    "\n",
    "# import cfpb\n",
    "\n",
    "%matplotlib inline\n",
    "import matplotlib.pyplot as plt\n",
    "import seaborn as sns\n",
    "import warnings\n",
    "warnings.filterwarnings(\"ignore\")\n",
    "\n",
    "from IPython.display import display, HTML\n",
    "warnings.filterwarnings(\"ignore\")"
   ]
  },
  {
   "cell_type": "code",
   "execution_count": 2,
   "id": "981c89c0",
   "metadata": {},
   "outputs": [
    {
     "name": "stdout",
     "output_type": "stream",
     "text": [
      "NumPy 1.22.4, pandas 1.4.3, sklearn 1.1.1\n",
      "HuggingFace Datasets: 1.16.1, Transformers: 4.11.3\n",
      "TensorFlow: 2.9.1, Keras: 2.9.0\n"
     ]
    }
   ],
   "source": [
    "print(f\"NumPy {np.__version__}, pandas {pd.__version__}, sklearn {sklearn.__version__}\")\n",
    "print(f\"HuggingFace Datasets: {hfds.__version__}, Transformers: {hf.__version__}\")\n",
    "print(f\"TensorFlow: {tf.__version__}, Keras: {tf.keras.__version__}\")"
   ]
  },
  {
   "cell_type": "markdown",
   "id": "524cf11f",
   "metadata": {},
   "source": [
    "<hr/>\n",
    "\n",
    "# Document vectorization: - Traditional IR \n",
    "\n",
    "* Scikit-Learn text vectorizers (CountVectorizer, TfidfVectorizer)\n",
    "* Sparse vector representation of documents (document-term matrix, |V|)\n"
   ]
  },
  {
   "cell_type": "code",
   "execution_count": 3,
   "id": "51292e23",
   "metadata": {},
   "outputs": [
    {
     "name": "stdout",
     "output_type": "stream",
     "text": [
      "The Zen of Python, by Tim Peters\n",
      "\n",
      "Beautiful is better than ugly.\n",
      "Explicit is better than implicit.\n",
      "Simple is better than complex.\n",
      "Complex is better than complicated.\n",
      "Flat is better than nested.\n",
      "Sparse is better than dense.\n",
      "Readability counts.\n",
      "Special cases aren't special enough to break the rules.\n",
      "Although practicality beats purity.\n",
      "Errors should never pass silently.\n",
      "Unless explicitly silenced.\n",
      "In the face of ambiguity, refuse the temptation to guess.\n",
      "There should be one-- and preferably only one --obvious way to do it.\n",
      "Although that way may not be obvious at first unless you're Dutch.\n",
      "Now is better than never.\n",
      "Although never is often better than *right* now.\n",
      "If the implementation is hard to explain, it's a bad idea.\n",
      "If the implementation is easy to explain, it may be a good idea.\n",
      "Namespaces are one honking great idea -- let's do more of those!\n"
     ]
    }
   ],
   "source": [
    "import this\n"
   ]
  },
  {
   "cell_type": "code",
   "execution_count": 4,
   "id": "3ae8a427",
   "metadata": {},
   "outputs": [],
   "source": [
    "# Document collection\n",
    "dc = {\n",
    "    \"d1\":\"Simple is better than complex.\", \n",
    "    \"d2\":\"Complex is better than complicated.\", \n",
    "    \"d3\":\"Flat is better than nested.\", \n",
    "    \"d4\":\"Sparse is better than dense.\"\n",
    "}"
   ]
  },
  {
   "cell_type": "code",
   "execution_count": 5,
   "id": "db30d6d0",
   "metadata": {},
   "outputs": [
    {
     "name": "stdout",
     "output_type": "stream",
     "text": [
      "Vectorizer features: 10 tokens. \n",
      "better, complex, complicated, dense, flat, is, nested, simple, sparse, than\n"
     ]
    }
   ],
   "source": [
    "# Sklearn TfidfVectorizer\n",
    "import sklearn as sklearn\n",
    "from sklearn.feature_extraction.text import TfidfVectorizer\n",
    "vectorizer = sklearn.feature_extraction.text.TfidfVectorizer()\n",
    "\n",
    "vectorizer.fit(dc.values())\n",
    "vec_features = vectorizer.get_feature_names()\n",
    "print(f\"Vectorizer features: {len(vec_features)} tokens. \\n{', '.join(vec_features)}\")"
   ]
  },
  {
   "cell_type": "code",
   "execution_count": 6,
   "id": "7ab4f7eb",
   "metadata": {},
   "outputs": [
    {
     "data": {
      "text/html": [
       "<div>\n",
       "<style scoped>\n",
       "    .dataframe tbody tr th:only-of-type {\n",
       "        vertical-align: middle;\n",
       "    }\n",
       "\n",
       "    .dataframe tbody tr th {\n",
       "        vertical-align: top;\n",
       "    }\n",
       "\n",
       "    .dataframe thead th {\n",
       "        text-align: right;\n",
       "    }\n",
       "</style>\n",
       "<table border=\"1\" class=\"dataframe\">\n",
       "  <thead>\n",
       "    <tr style=\"text-align: right;\">\n",
       "      <th></th>\n",
       "      <th>better</th>\n",
       "      <th>complex</th>\n",
       "      <th>complicated</th>\n",
       "      <th>dense</th>\n",
       "      <th>flat</th>\n",
       "      <th>is</th>\n",
       "      <th>nested</th>\n",
       "      <th>simple</th>\n",
       "      <th>sparse</th>\n",
       "      <th>than</th>\n",
       "    </tr>\n",
       "  </thead>\n",
       "  <tbody>\n",
       "    <tr>\n",
       "      <th>0</th>\n",
       "      <td>0.334174</td>\n",
       "      <td>0.504879</td>\n",
       "      <td>0.000000</td>\n",
       "      <td>0.000000</td>\n",
       "      <td>0.000000</td>\n",
       "      <td>0.334174</td>\n",
       "      <td>0.000000</td>\n",
       "      <td>0.640375</td>\n",
       "      <td>0.000000</td>\n",
       "      <td>0.334174</td>\n",
       "    </tr>\n",
       "    <tr>\n",
       "      <th>1</th>\n",
       "      <td>0.334174</td>\n",
       "      <td>0.504879</td>\n",
       "      <td>0.640375</td>\n",
       "      <td>0.000000</td>\n",
       "      <td>0.000000</td>\n",
       "      <td>0.334174</td>\n",
       "      <td>0.000000</td>\n",
       "      <td>0.000000</td>\n",
       "      <td>0.000000</td>\n",
       "      <td>0.334174</td>\n",
       "    </tr>\n",
       "    <tr>\n",
       "      <th>2</th>\n",
       "      <td>0.310920</td>\n",
       "      <td>0.000000</td>\n",
       "      <td>0.000000</td>\n",
       "      <td>0.000000</td>\n",
       "      <td>0.595813</td>\n",
       "      <td>0.310920</td>\n",
       "      <td>0.595813</td>\n",
       "      <td>0.000000</td>\n",
       "      <td>0.000000</td>\n",
       "      <td>0.310920</td>\n",
       "    </tr>\n",
       "    <tr>\n",
       "      <th>3</th>\n",
       "      <td>0.310920</td>\n",
       "      <td>0.000000</td>\n",
       "      <td>0.000000</td>\n",
       "      <td>0.595813</td>\n",
       "      <td>0.000000</td>\n",
       "      <td>0.310920</td>\n",
       "      <td>0.000000</td>\n",
       "      <td>0.000000</td>\n",
       "      <td>0.595813</td>\n",
       "      <td>0.310920</td>\n",
       "    </tr>\n",
       "  </tbody>\n",
       "</table>\n",
       "</div>"
      ],
      "text/plain": [
       "     better   complex  complicated     dense      flat        is    nested  \\\n",
       "0  0.334174  0.504879     0.000000  0.000000  0.000000  0.334174  0.000000   \n",
       "1  0.334174  0.504879     0.640375  0.000000  0.000000  0.334174  0.000000   \n",
       "2  0.310920  0.000000     0.000000  0.000000  0.595813  0.310920  0.595813   \n",
       "3  0.310920  0.000000     0.000000  0.595813  0.000000  0.310920  0.000000   \n",
       "\n",
       "     simple    sparse      than  \n",
       "0  0.640375  0.000000  0.334174  \n",
       "1  0.000000  0.000000  0.334174  \n",
       "2  0.000000  0.000000  0.310920  \n",
       "3  0.000000  0.595813  0.310920  "
      ]
     },
     "execution_count": 6,
     "metadata": {},
     "output_type": "execute_result"
    }
   ],
   "source": [
    "# TfidfVectorizer: Vectorize documents\n",
    "DC = vectorizer.transform(dc.values()) # Sparse matrix\n",
    "pd.DataFrame(DC.toarray(), columns=vec_features)"
   ]
  },
  {
   "cell_type": "markdown",
   "id": "e9ac4c13",
   "metadata": {},
   "source": [
    "## Query document collection (sparse)"
   ]
  },
  {
   "cell_type": "code",
   "execution_count": 7,
   "id": "eb0e1ecc",
   "metadata": {},
   "outputs": [
    {
     "data": {
      "text/html": [
       "<div>\n",
       "<style scoped>\n",
       "    .dataframe tbody tr th:only-of-type {\n",
       "        vertical-align: middle;\n",
       "    }\n",
       "\n",
       "    .dataframe tbody tr th {\n",
       "        vertical-align: top;\n",
       "    }\n",
       "\n",
       "    .dataframe thead th {\n",
       "        text-align: right;\n",
       "    }\n",
       "</style>\n",
       "<table border=\"1\" class=\"dataframe\">\n",
       "  <thead>\n",
       "    <tr style=\"text-align: right;\">\n",
       "      <th></th>\n",
       "      <th>better</th>\n",
       "      <th>complex</th>\n",
       "      <th>complicated</th>\n",
       "      <th>dense</th>\n",
       "      <th>flat</th>\n",
       "      <th>is</th>\n",
       "      <th>nested</th>\n",
       "      <th>simple</th>\n",
       "      <th>sparse</th>\n",
       "      <th>than</th>\n",
       "    </tr>\n",
       "  </thead>\n",
       "  <tbody>\n",
       "    <tr>\n",
       "      <th>0</th>\n",
       "      <td>0.419880</td>\n",
       "      <td>0.000000</td>\n",
       "      <td>0.0</td>\n",
       "      <td>0.0</td>\n",
       "      <td>0.0</td>\n",
       "      <td>0.41988</td>\n",
       "      <td>0.0</td>\n",
       "      <td>0.804612</td>\n",
       "      <td>0.0</td>\n",
       "      <td>0.000000</td>\n",
       "    </tr>\n",
       "    <tr>\n",
       "      <th>1</th>\n",
       "      <td>0.483222</td>\n",
       "      <td>0.730064</td>\n",
       "      <td>0.0</td>\n",
       "      <td>0.0</td>\n",
       "      <td>0.0</td>\n",
       "      <td>0.00000</td>\n",
       "      <td>0.0</td>\n",
       "      <td>0.000000</td>\n",
       "      <td>0.0</td>\n",
       "      <td>0.483222</td>\n",
       "    </tr>\n",
       "  </tbody>\n",
       "</table>\n",
       "</div>"
      ],
      "text/plain": [
       "     better   complex  complicated  dense  flat       is  nested    simple  \\\n",
       "0  0.419880  0.000000          0.0    0.0   0.0  0.41988     0.0  0.804612   \n",
       "1  0.483222  0.730064          0.0    0.0   0.0  0.00000     0.0  0.000000   \n",
       "\n",
       "   sparse      than  \n",
       "0     0.0  0.000000  \n",
       "1     0.0  0.483222  "
      ]
     },
     "execution_count": 7,
     "metadata": {},
     "output_type": "execute_result"
    }
   ],
   "source": [
    "# Query vectorize\n",
    "qc = { \"q1\":\"simple is better\", \"q2\":\"better than complex\"}\n",
    "\n",
    "Q = vectorizer.transform(qc.values())\n",
    "pd.DataFrame(Q.toarray(), columns=vec_features)"
   ]
  },
  {
   "cell_type": "code",
   "execution_count": 8,
   "id": "f9da6543",
   "metadata": {},
   "outputs": [
    {
     "name": "stdout",
     "output_type": "stream",
     "text": [
      "Query:  simple is better\n",
      "Top score [0]: 0.795879920237181\n",
      "\t Scores: [0.79587992 0.28062625 0.26109826 0.26109826]\n",
      "Document  [0]: Simple is better than complex.\n"
     ]
    },
    {
     "data": {
      "text/plain": [
       "{'d1': 'Simple is better than complex.',\n",
       " 'd2': 'Complex is better than complicated.',\n",
       " 'd3': 'Flat is better than nested.',\n",
       " 'd4': 'Sparse is better than dense.'}"
      ]
     },
     "execution_count": 8,
     "metadata": {},
     "output_type": "execute_result"
    }
   ],
   "source": [
    "# Search: get top document for Q[qk]\n",
    "qk = 0; query_key = list(qc.keys())[qk]\n",
    "scores = DC.dot(Q[qk].toarray()[0].T)  # dot-product DC.Q\n",
    "max_id = np.argmax(scores)\n",
    "dk = list(dc.keys())[max_id]\n",
    "\n",
    "# Top result\n",
    "print(f\"Query:  {qc[query_key]}\")\n",
    "print(f\"Top score [{max_id}]: {scores[max_id]}\\n\\t Scores: {scores}\\nDocument  [{max_id}]: {dc[dk]}\")\n",
    "dc"
   ]
  },
  {
   "cell_type": "markdown",
   "id": "9ab1b479",
   "metadata": {},
   "source": [
    "# Document vectorization: - Neural model \n",
    "\n",
    "* FinBERT, large language model (based on Google BERT-base, 2018)\n",
    "* FinBERT Trained for financial sentiment analysis - TRC2-financial; Financial PhraseBank; FiQA Sentiment \n",
    "* Dense vector representation of documents (768-dim)\n",
    "* https://arxiv.org/abs/1908.10063 \n",
    "\n",
    "Alternative models: Multi-QA MPNet, Multi-QA DistilBERT, MPNet\n",
    "* multi-qa-mpnet-base-dot-v1\n",
    "* multi-qa-distilbert-cos-v1\n",
    "* https://www.sbert.net/docs/pretrained_models.html\n",
    "* https://arxiv.org/abs/2004.09297\n"
   ]
  },
  {
   "cell_type": "code",
   "execution_count": 9,
   "id": "b887306c",
   "metadata": {},
   "outputs": [
    {
     "name": "stderr",
     "output_type": "stream",
     "text": [
      "2022-09-25 09:57:50.389229: I tensorflow/core/platform/cpu_feature_guard.cc:193] This TensorFlow binary is optimized with oneAPI Deep Neural Network Library (oneDNN) to use the following CPU instructions in performance-critical operations:  AVX2 FMA\n",
      "To enable them in other operations, rebuild TensorFlow with the appropriate compiler flags.\n",
      "Some weights of the PyTorch model were not used when initializing the TF 2.0 model TFBertModel: ['classifier.weight', 'bert.embeddings.position_ids', 'classifier.bias']\n",
      "- This IS expected if you are initializing TFBertModel from a PyTorch model trained on another task or with another architecture (e.g. initializing a TFBertForSequenceClassification model from a BertForPreTraining model).\n",
      "- This IS NOT expected if you are initializing TFBertModel from a PyTorch model that you expect to be exactly identical (e.g. initializing a TFBertForSequenceClassification model from a BertForSequenceClassification model).\n",
      "All the weights of TFBertModel were initialized from the PyTorch model.\n",
      "If your task is similar to the task the model of the checkpoint was trained on, you can already use TFBertModel for predictions without further training.\n"
     ]
    },
    {
     "name": "stdout",
     "output_type": "stream",
     "text": [
      "Model: \"tf_bert_model\"\n",
      "_________________________________________________________________\n",
      " Layer (type)                Output Shape              Param #   \n",
      "=================================================================\n",
      " bert (TFBertMainLayer)      multiple                  109482240 \n",
      "                                                                 \n",
      "=================================================================\n",
      "Total params: 109,482,240\n",
      "Trainable params: 109,482,240\n",
      "Non-trainable params: 0\n",
      "_________________________________________________________________\n"
     ]
    }
   ],
   "source": [
    "# Transformer model\n",
    "# from transformers import AutoTokenizer, TFAutoModel\n",
    "model_ckpt = \"ProsusAI/finbert\"  # BERT trained for financial sentiment analysis\n",
    "# model_ckpt = \"sentence-transformers/multi-qa-mpnet-base-dot-v1\" # BERT trained for question-answering\n",
    "tokenizer = hf.AutoTokenizer.from_pretrained(model_ckpt)\n",
    "model = hf.TFAutoModel.from_pretrained(model_ckpt, from_pt=True)\n",
    "\n",
    "def cls_pooling(model_output):\n",
    "    return model_output.last_hidden_state[:, 0]\n",
    "\n",
    "def get_embeddings(text_list):\n",
    "    encoded_input = tokenizer(text_list, padding=True, \n",
    "                              truncation=True, return_tensors=\"tf\")\n",
    "    encoded_input = {k: v for k, v in encoded_input.items()}\n",
    "    model_output = model(**encoded_input)\n",
    "    return cls_pooling(model_output)\n",
    "\n",
    "model.summary()"
   ]
  },
  {
   "cell_type": "code",
   "execution_count": 10,
   "id": "705c1dc3",
   "metadata": {},
   "outputs": [
    {
     "name": "stdout",
     "output_type": "stream",
     "text": [
      "CPU times: user 427 ms, sys: 41.2 ms, total: 468 ms\n",
      "Wall time: 181 ms\n"
     ]
    },
    {
     "data": {
      "text/html": [
       "<div>\n",
       "<style scoped>\n",
       "    .dataframe tbody tr th:only-of-type {\n",
       "        vertical-align: middle;\n",
       "    }\n",
       "\n",
       "    .dataframe tbody tr th {\n",
       "        vertical-align: top;\n",
       "    }\n",
       "\n",
       "    .dataframe thead th {\n",
       "        text-align: right;\n",
       "    }\n",
       "</style>\n",
       "<table border=\"1\" class=\"dataframe\">\n",
       "  <thead>\n",
       "    <tr style=\"text-align: right;\">\n",
       "      <th></th>\n",
       "      <th>0</th>\n",
       "      <th>1</th>\n",
       "      <th>2</th>\n",
       "      <th>3</th>\n",
       "      <th>4</th>\n",
       "      <th>5</th>\n",
       "      <th>6</th>\n",
       "      <th>7</th>\n",
       "      <th>8</th>\n",
       "      <th>9</th>\n",
       "      <th>...</th>\n",
       "      <th>758</th>\n",
       "      <th>759</th>\n",
       "      <th>760</th>\n",
       "      <th>761</th>\n",
       "      <th>762</th>\n",
       "      <th>763</th>\n",
       "      <th>764</th>\n",
       "      <th>765</th>\n",
       "      <th>766</th>\n",
       "      <th>767</th>\n",
       "    </tr>\n",
       "  </thead>\n",
       "  <tbody>\n",
       "    <tr>\n",
       "      <th>0</th>\n",
       "      <td>0.190899</td>\n",
       "      <td>0.874197</td>\n",
       "      <td>-1.032465</td>\n",
       "      <td>-0.137693</td>\n",
       "      <td>-0.306911</td>\n",
       "      <td>-0.725966</td>\n",
       "      <td>0.436320</td>\n",
       "      <td>0.340217</td>\n",
       "      <td>1.060956</td>\n",
       "      <td>-1.084645</td>\n",
       "      <td>...</td>\n",
       "      <td>0.058592</td>\n",
       "      <td>-0.362671</td>\n",
       "      <td>-0.018004</td>\n",
       "      <td>-0.426524</td>\n",
       "      <td>-0.887318</td>\n",
       "      <td>0.725826</td>\n",
       "      <td>0.292485</td>\n",
       "      <td>-0.592488</td>\n",
       "      <td>-0.318993</td>\n",
       "      <td>0.670576</td>\n",
       "    </tr>\n",
       "    <tr>\n",
       "      <th>1</th>\n",
       "      <td>0.107703</td>\n",
       "      <td>0.896653</td>\n",
       "      <td>-1.145805</td>\n",
       "      <td>-0.081705</td>\n",
       "      <td>-0.417182</td>\n",
       "      <td>-0.801632</td>\n",
       "      <td>0.639703</td>\n",
       "      <td>0.530051</td>\n",
       "      <td>1.056912</td>\n",
       "      <td>-0.929148</td>\n",
       "      <td>...</td>\n",
       "      <td>0.237219</td>\n",
       "      <td>-0.238325</td>\n",
       "      <td>-0.133330</td>\n",
       "      <td>-0.415811</td>\n",
       "      <td>-0.804851</td>\n",
       "      <td>0.369824</td>\n",
       "      <td>0.204125</td>\n",
       "      <td>-0.698620</td>\n",
       "      <td>-0.376128</td>\n",
       "      <td>0.709878</td>\n",
       "    </tr>\n",
       "    <tr>\n",
       "      <th>2</th>\n",
       "      <td>0.271673</td>\n",
       "      <td>0.214038</td>\n",
       "      <td>-0.597655</td>\n",
       "      <td>-0.412695</td>\n",
       "      <td>-0.234643</td>\n",
       "      <td>-0.437923</td>\n",
       "      <td>-0.073856</td>\n",
       "      <td>0.258040</td>\n",
       "      <td>0.904815</td>\n",
       "      <td>-0.660722</td>\n",
       "      <td>...</td>\n",
       "      <td>0.194288</td>\n",
       "      <td>-0.090732</td>\n",
       "      <td>0.378461</td>\n",
       "      <td>-0.077305</td>\n",
       "      <td>-0.088105</td>\n",
       "      <td>0.860166</td>\n",
       "      <td>0.172182</td>\n",
       "      <td>-0.629481</td>\n",
       "      <td>0.153705</td>\n",
       "      <td>0.974907</td>\n",
       "    </tr>\n",
       "    <tr>\n",
       "      <th>3</th>\n",
       "      <td>0.025600</td>\n",
       "      <td>0.475642</td>\n",
       "      <td>-0.886289</td>\n",
       "      <td>-0.326687</td>\n",
       "      <td>-0.135318</td>\n",
       "      <td>-1.126632</td>\n",
       "      <td>0.167423</td>\n",
       "      <td>0.529638</td>\n",
       "      <td>0.543420</td>\n",
       "      <td>-0.991395</td>\n",
       "      <td>...</td>\n",
       "      <td>0.336393</td>\n",
       "      <td>-0.500228</td>\n",
       "      <td>0.146338</td>\n",
       "      <td>-0.194268</td>\n",
       "      <td>-0.752832</td>\n",
       "      <td>0.533828</td>\n",
       "      <td>0.172110</td>\n",
       "      <td>-0.351772</td>\n",
       "      <td>-0.454405</td>\n",
       "      <td>0.635616</td>\n",
       "    </tr>\n",
       "  </tbody>\n",
       "</table>\n",
       "<p>4 rows × 768 columns</p>\n",
       "</div>"
      ],
      "text/plain": [
       "        0         1         2         3         4         5         6    \\\n",
       "0  0.190899  0.874197 -1.032465 -0.137693 -0.306911 -0.725966  0.436320   \n",
       "1  0.107703  0.896653 -1.145805 -0.081705 -0.417182 -0.801632  0.639703   \n",
       "2  0.271673  0.214038 -0.597655 -0.412695 -0.234643 -0.437923 -0.073856   \n",
       "3  0.025600  0.475642 -0.886289 -0.326687 -0.135318 -1.126632  0.167423   \n",
       "\n",
       "        7         8         9    ...       758       759       760       761  \\\n",
       "0  0.340217  1.060956 -1.084645  ...  0.058592 -0.362671 -0.018004 -0.426524   \n",
       "1  0.530051  1.056912 -0.929148  ...  0.237219 -0.238325 -0.133330 -0.415811   \n",
       "2  0.258040  0.904815 -0.660722  ...  0.194288 -0.090732  0.378461 -0.077305   \n",
       "3  0.529638  0.543420 -0.991395  ...  0.336393 -0.500228  0.146338 -0.194268   \n",
       "\n",
       "        762       763       764       765       766       767  \n",
       "0 -0.887318  0.725826  0.292485 -0.592488 -0.318993  0.670576  \n",
       "1 -0.804851  0.369824  0.204125 -0.698620 -0.376128  0.709878  \n",
       "2 -0.088105  0.860166  0.172182 -0.629481  0.153705  0.974907  \n",
       "3 -0.752832  0.533828  0.172110 -0.351772 -0.454405  0.635616  \n",
       "\n",
       "[4 rows x 768 columns]"
      ]
     },
     "execution_count": 10,
     "metadata": {},
     "output_type": "execute_result"
    }
   ],
   "source": [
    "# FinBERT: Vectorize documents\n",
    "dc_text = list(dc.values())\n",
    "%time DC_finbert = get_embeddings(dc_text)\n",
    "pd.DataFrame(DC_finbert, columns=None)"
   ]
  },
  {
   "cell_type": "markdown",
   "id": "18aaa028",
   "metadata": {},
   "source": [
    "## Query document collection (dense)"
   ]
  },
  {
   "cell_type": "code",
   "execution_count": 11,
   "id": "ae2170ed",
   "metadata": {},
   "outputs": [
    {
     "name": "stdout",
     "output_type": "stream",
     "text": [
      "CPU times: user 292 ms, sys: 16.4 ms, total: 309 ms\n",
      "Wall time: 144 ms\n",
      "queries: dict_values(['simple is better', 'better than complex']), query_embedding.shape: (2, 768)\n"
     ]
    },
    {
     "data": {
      "text/html": [
       "<div>\n",
       "<style scoped>\n",
       "    .dataframe tbody tr th:only-of-type {\n",
       "        vertical-align: middle;\n",
       "    }\n",
       "\n",
       "    .dataframe tbody tr th {\n",
       "        vertical-align: top;\n",
       "    }\n",
       "\n",
       "    .dataframe thead th {\n",
       "        text-align: right;\n",
       "    }\n",
       "</style>\n",
       "<table border=\"1\" class=\"dataframe\">\n",
       "  <thead>\n",
       "    <tr style=\"text-align: right;\">\n",
       "      <th></th>\n",
       "      <th>0</th>\n",
       "      <th>1</th>\n",
       "      <th>2</th>\n",
       "      <th>3</th>\n",
       "      <th>4</th>\n",
       "      <th>5</th>\n",
       "      <th>6</th>\n",
       "      <th>7</th>\n",
       "      <th>8</th>\n",
       "      <th>9</th>\n",
       "      <th>...</th>\n",
       "      <th>758</th>\n",
       "      <th>759</th>\n",
       "      <th>760</th>\n",
       "      <th>761</th>\n",
       "      <th>762</th>\n",
       "      <th>763</th>\n",
       "      <th>764</th>\n",
       "      <th>765</th>\n",
       "      <th>766</th>\n",
       "      <th>767</th>\n",
       "    </tr>\n",
       "  </thead>\n",
       "  <tbody>\n",
       "    <tr>\n",
       "      <th>0</th>\n",
       "      <td>0.116584</td>\n",
       "      <td>0.25856</td>\n",
       "      <td>-0.980713</td>\n",
       "      <td>-0.085375</td>\n",
       "      <td>0.201214</td>\n",
       "      <td>-1.001135</td>\n",
       "      <td>0.695449</td>\n",
       "      <td>0.855423</td>\n",
       "      <td>0.891197</td>\n",
       "      <td>-0.837210</td>\n",
       "      <td>...</td>\n",
       "      <td>-0.361037</td>\n",
       "      <td>0.014355</td>\n",
       "      <td>-0.875418</td>\n",
       "      <td>-0.520180</td>\n",
       "      <td>-1.104257</td>\n",
       "      <td>0.403387</td>\n",
       "      <td>0.449688</td>\n",
       "      <td>-0.672799</td>\n",
       "      <td>-0.754017</td>\n",
       "      <td>1.170985</td>\n",
       "    </tr>\n",
       "    <tr>\n",
       "      <th>1</th>\n",
       "      <td>0.351984</td>\n",
       "      <td>-0.07504</td>\n",
       "      <td>-0.489542</td>\n",
       "      <td>0.270424</td>\n",
       "      <td>0.367446</td>\n",
       "      <td>-0.957415</td>\n",
       "      <td>0.750791</td>\n",
       "      <td>-0.004371</td>\n",
       "      <td>1.016229</td>\n",
       "      <td>-0.918257</td>\n",
       "      <td>...</td>\n",
       "      <td>-0.201501</td>\n",
       "      <td>0.104479</td>\n",
       "      <td>0.278083</td>\n",
       "      <td>0.341823</td>\n",
       "      <td>-0.024238</td>\n",
       "      <td>0.501186</td>\n",
       "      <td>0.568435</td>\n",
       "      <td>-0.244669</td>\n",
       "      <td>0.510609</td>\n",
       "      <td>0.874819</td>\n",
       "    </tr>\n",
       "  </tbody>\n",
       "</table>\n",
       "<p>2 rows × 768 columns</p>\n",
       "</div>"
      ],
      "text/plain": [
       "        0        1         2         3         4         5         6    \\\n",
       "0  0.116584  0.25856 -0.980713 -0.085375  0.201214 -1.001135  0.695449   \n",
       "1  0.351984 -0.07504 -0.489542  0.270424  0.367446 -0.957415  0.750791   \n",
       "\n",
       "        7         8         9    ...       758       759       760       761  \\\n",
       "0  0.855423  0.891197 -0.837210  ... -0.361037  0.014355 -0.875418 -0.520180   \n",
       "1 -0.004371  1.016229 -0.918257  ... -0.201501  0.104479  0.278083  0.341823   \n",
       "\n",
       "        762       763       764       765       766       767  \n",
       "0 -1.104257  0.403387  0.449688 -0.672799 -0.754017  1.170985  \n",
       "1 -0.024238  0.501186  0.568435 -0.244669  0.510609  0.874819  \n",
       "\n",
       "[2 rows x 768 columns]"
      ]
     },
     "execution_count": 11,
     "metadata": {},
     "output_type": "execute_result"
    }
   ],
   "source": [
    "# Q_finbert: dense query embeddings\n",
    "%time Q_finbert = get_embeddings(list(qc.values())).numpy()\n",
    "print(f\"queries: {qc.values()}, query_embedding.shape: {Q_finbert.shape}\")\n",
    "pd.DataFrame(Q_finbert, columns=None)"
   ]
  },
  {
   "cell_type": "code",
   "execution_count": 12,
   "id": "744d3ee3",
   "metadata": {},
   "outputs": [
    {
     "name": "stdout",
     "output_type": "stream",
     "text": [
      "Query:  simple is better\n",
      "Top score [0]: 236.4822998046875\n",
      "\t Scores: [236.4823  235.48581 184.7497  211.9324 ]\n",
      "Document  [0]: Simple is better than complex.\n"
     ]
    },
    {
     "data": {
      "text/plain": [
       "{'d1': 'Simple is better than complex.',\n",
       " 'd2': 'Complex is better than complicated.',\n",
       " 'd3': 'Flat is better than nested.',\n",
       " 'd4': 'Sparse is better than dense.'}"
      ]
     },
     "execution_count": 12,
     "metadata": {},
     "output_type": "execute_result"
    }
   ],
   "source": [
    "# Search: get top document for Q\n",
    "qk = 0  # 0,1\n",
    "query_key = list(qc.keys())[qk]\n",
    "\n",
    "scores = DC_finbert.numpy().dot(Q_finbert[qk].T)  # dot-product DC.Q_finbert\n",
    "max_id = np.argmax(scores)\n",
    "dk = list(dc.keys())[max_id]\n",
    "\n",
    "# Top result\n",
    "print(f\"Query:  {qc[query_key]}\")\n",
    "print(f\"Top score [{max_id}]: {scores[max_id]}\\n\\t Scores: {scores}\\nDocument  [{max_id}]: {dc[dk]}\")\n",
    "dc"
   ]
  },
  {
   "cell_type": "markdown",
   "id": "c235b284",
   "metadata": {},
   "source": [
    "<hr/>\n",
    "\n",
    "# CFPB Dataset\n",
    "\n",
    "Download CFPB dataset in CSV format from Kaggle and put in the same directory as this notebook (dataset also available in CSV and JSON formats from CFPB):\n",
    "\n",
    "* https://www.kaggle.com/datasets/kaggle/us-consumer-finance-complaints\n",
    "* File: `consumer_complaints.csv` (175 MB; 555,957 rows)\n"
   ]
  },
  {
   "cell_type": "code",
   "execution_count": 14,
   "id": "ed1820f7",
   "metadata": {},
   "outputs": [
    {
     "name": "stderr",
     "output_type": "stream",
     "text": [
      "Using custom data configuration default-5cc56e55d07842c7\n",
      "Reusing dataset csv (/Users/nelson/.cache/huggingface/datasets/csv/default-5cc56e55d07842c7/0.0.0/bf68a4c4aefa545d0712b2fcbb1b327f905bbe2f6425fbc5e8c25234acb9e14a)\n"
     ]
    },
    {
     "name": "stdout",
     "output_type": "stream",
     "text": [
      "huggingface/tokenizers: The current process just got forked, after parallelism has already been used. Disabling parallelism to avoid deadlocks...\n",
      "To disable this warning, you can either:\n",
      "\t- Avoid using `tokenizers` before the fork if possible\n",
      "\t- Explicitly set the environment variable TOKENIZERS_PARALLELISM=(true | false)\n"
     ]
    },
    {
     "data": {
      "application/vnd.jupyter.widget-view+json": {
       "model_id": "6003a7b7dfc2440e8458332e9b9ee008",
       "version_major": 2,
       "version_minor": 0
      },
      "text/plain": [
       "  0%|          | 0/3 [00:00<?, ?it/s]"
      ]
     },
     "metadata": {},
     "output_type": "display_data"
    },
    {
     "name": "stdout",
     "output_type": "stream",
     "text": [
      "cfpb_ds.shape: {'train': (500362, 18), 'validation': (27798, 18), 'test': (27798, 18)}\n",
      "cfpb_ds splits - train: 90%, validation: 5%, test: 5%\n",
      "\n"
     ]
    },
    {
     "data": {
      "text/plain": [
       "DatasetDict({\n",
       "    train: Dataset({\n",
       "        features: ['date_received', 'product', 'sub_product', 'issue', 'sub_issue', 'consumer_complaint_narrative', 'company_public_response', 'company', 'state', 'zipcode', 'tags', 'consumer_consent_provided', 'submitted_via', 'date_sent_to_company', 'company_response_to_consumer', 'timely_response', 'consumer_disputed?', 'complaint_id'],\n",
       "        num_rows: 500362\n",
       "    })\n",
       "    validation: Dataset({\n",
       "        features: ['date_received', 'product', 'sub_product', 'issue', 'sub_issue', 'consumer_complaint_narrative', 'company_public_response', 'company', 'state', 'zipcode', 'tags', 'consumer_consent_provided', 'submitted_via', 'date_sent_to_company', 'company_response_to_consumer', 'timely_response', 'consumer_disputed?', 'complaint_id'],\n",
       "        num_rows: 27798\n",
       "    })\n",
       "    test: Dataset({\n",
       "        features: ['date_received', 'product', 'sub_product', 'issue', 'sub_issue', 'consumer_complaint_narrative', 'company_public_response', 'company', 'state', 'zipcode', 'tags', 'consumer_consent_provided', 'submitted_via', 'date_sent_to_company', 'company_response_to_consumer', 'timely_response', 'consumer_disputed?', 'complaint_id'],\n",
       "        num_rows: 27798\n",
       "    })\n",
       "})"
      ]
     },
     "execution_count": 14,
     "metadata": {},
     "output_type": "execute_result"
    }
   ],
   "source": [
    "# CFPB CSV or JSON files\n",
    "cfpb_base = \"./\"\n",
    "cfpb_kaggle_csv_fn = \"consumer_complaints.csv\"\n",
    "fq_file_name = cfpb_base + cfpb_kaggle_csv_fn\n",
    "\n",
    "# Load as HuggingFace dataset\n",
    "cfpb_ccd_columns = ['date_received', 'product', 'sub_product', 'issue', 'sub_issue', \n",
    "                    'consumer_complaint_narrative', 'company_public_response', 'company', \n",
    "                    'state', 'zipcode', 'tags', 'consumer_consent_provided', 'submitted_via', \n",
    "                    'date_sent_to_company', 'company_response_to_consumer',  \n",
    "                    'timely_response', 'consumer_disputed?', 'complaint_id']\n",
    "\n",
    "cfpb_columns_tcs = ['date_received', 'product', 'issue', 'company', 'state', 'zipcode', \n",
    "                    'consumer_complaint_narrative', 'complaint_id']\n",
    "\n",
    "s1, s2, s3 = [90, 5, 5] # cfpb_dataset_split to use\n",
    "\n",
    "cfpb_ds = hfds.load_dataset(\n",
    "    \"csv\", \n",
    "    data_files={'cfpb_ccd':[fq_file_name]}, \n",
    "    sep=\",\", \n",
    "    # skiprows=1, # Not supported in hfds.load_dataset() - filter first row below\n",
    "    split={\"train\":f\"cfpb_ccd[:{s1}%]\",\n",
    "           \"validation\":f\"cfpb_ccd[{s1}%:{s1+s2}%]\",\"test\":f\"cfpb_ccd[{s1+s2}%:]\"\n",
    "          },\n",
    "    names=cfpb_ccd_columns\n",
    ")\n",
    "\n",
    "print(f\"cfpb_ds.shape: {cfpb_ds.shape}\")\n",
    "print(f\"cfpb_ds splits - train: {s1}%, validation: {s2}%, test: {s3}%\\n\")\n",
    "cfpb_ds"
   ]
  },
  {
   "cell_type": "code",
   "execution_count": 15,
   "id": "671d41f3",
   "metadata": {},
   "outputs": [
    {
     "name": "stdout",
     "output_type": "stream",
     "text": [
      "       cfpb_ds rows: {'train': 500362, 'validation': 27798, 'test': 27798}\n",
      "narratives_not_null: {'train': 52586, 'validation': 8718, 'test': 5503}\n",
      "\n"
     ]
    }
   ],
   "source": [
    "# Null narratives in dataset splits\n",
    "splits = [\"train\", \"validation\", \"test\"]\n",
    "narratives = {split:cfpb_ds[split][\"consumer_complaint_narrative\"] for split in splits}\n",
    "\n",
    "# narratives_null = len([x for x in narratives_train if x == None])\n",
    "cfpb_ds_rows = {split:cfpb_ds[split].num_rows for split in splits}\n",
    "narratives_not_null = {split:len([x for x in narratives[split] if x != None]) for split in splits}\n",
    "print(f\"       cfpb_ds rows: {cfpb_ds_rows}\")\n",
    "print(f\"narratives_not_null: {narratives_not_null}\\n\")"
   ]
  },
  {
   "cell_type": "code",
   "execution_count": 16,
   "id": "44200dbf",
   "metadata": {},
   "outputs": [
    {
     "name": "stderr",
     "output_type": "stream",
     "text": [
      "Parameter 'function'=<function <lambda> at 0x7f9a7ce31310> of the transform datasets.arrow_dataset.Dataset.filter@2.0.1 couldn't be hashed properly, a random hash was used instead. Make sure your transforms and parameters are serializable with pickle or dill for the dataset fingerprinting and caching to work. If you reuse this transform, the caching mechanism will consider it to be different from the previous calls and recompute everything. This warning is only showed once. Subsequent hashing failures won't be showed.\n"
     ]
    },
    {
     "data": {
      "application/vnd.jupyter.widget-view+json": {
       "model_id": "6e5d86a2e61d474eb709659a2403ada2",
       "version_major": 2,
       "version_minor": 0
      },
      "text/plain": [
       "  0%|          | 0/501 [00:00<?, ?ba/s]"
      ]
     },
     "metadata": {},
     "output_type": "display_data"
    },
    {
     "data": {
      "application/vnd.jupyter.widget-view+json": {
       "model_id": "8d6a3ca4961d45dba6c359db856fc1bd",
       "version_major": 2,
       "version_minor": 0
      },
      "text/plain": [
       "  0%|          | 0/28 [00:00<?, ?ba/s]"
      ]
     },
     "metadata": {},
     "output_type": "display_data"
    },
    {
     "data": {
      "application/vnd.jupyter.widget-view+json": {
       "model_id": "c6d933cb03214d50bf4cab8b60394066",
       "version_major": 2,
       "version_minor": 0
      },
      "text/plain": [
       "  0%|          | 0/28 [00:00<?, ?ba/s]"
      ]
     },
     "metadata": {},
     "output_type": "display_data"
    },
    {
     "name": "stdout",
     "output_type": "stream",
     "text": [
      "Total rows (source): 555,957\n"
     ]
    },
    {
     "data": {
      "application/vnd.jupyter.widget-view+json": {
       "model_id": "a0ea8dd8aa21457bba2ddf584d47abec",
       "version_major": 2,
       "version_minor": 0
      },
      "text/plain": [
       "  0%|          | 0/501 [00:00<?, ?ba/s]"
      ]
     },
     "metadata": {},
     "output_type": "display_data"
    },
    {
     "data": {
      "application/vnd.jupyter.widget-view+json": {
       "model_id": "a630aaa72ebf4ff795c2547750143e6d",
       "version_major": 2,
       "version_minor": 0
      },
      "text/plain": [
       "  0%|          | 0/28 [00:00<?, ?ba/s]"
      ]
     },
     "metadata": {},
     "output_type": "display_data"
    },
    {
     "data": {
      "application/vnd.jupyter.widget-view+json": {
       "model_id": "76f2916384c244ebbacdab981fa4ad46",
       "version_major": 2,
       "version_minor": 0
      },
      "text/plain": [
       "  0%|          | 0/28 [00:00<?, ?ba/s]"
      ]
     },
     "metadata": {},
     "output_type": "display_data"
    },
    {
     "name": "stdout",
     "output_type": "stream",
     "text": [
      "Total rows (filtered): 66806\n",
      "cfpb_ds.shape (after filter): {'train': (52585, 18), 'validation': (8718, 18), 'test': (5503, 18)}\n"
     ]
    },
    {
     "data": {
      "text/plain": [
       "DatasetDict({\n",
       "    train: Dataset({\n",
       "        features: ['date_received', 'product', 'sub_product', 'issue', 'sub_issue', 'consumer_complaint_narrative', 'company_public_response', 'company', 'state', 'zipcode', 'tags', 'consumer_consent_provided', 'submitted_via', 'date_sent_to_company', 'company_response_to_consumer', 'timely_response', 'consumer_disputed?', 'complaint_id'],\n",
       "        num_rows: 52585\n",
       "    })\n",
       "    validation: Dataset({\n",
       "        features: ['date_received', 'product', 'sub_product', 'issue', 'sub_issue', 'consumer_complaint_narrative', 'company_public_response', 'company', 'state', 'zipcode', 'tags', 'consumer_consent_provided', 'submitted_via', 'date_sent_to_company', 'company_response_to_consumer', 'timely_response', 'consumer_disputed?', 'complaint_id'],\n",
       "        num_rows: 8718\n",
       "    })\n",
       "    test: Dataset({\n",
       "        features: ['date_received', 'product', 'sub_product', 'issue', 'sub_issue', 'consumer_complaint_narrative', 'company_public_response', 'company', 'state', 'zipcode', 'tags', 'consumer_consent_provided', 'submitted_via', 'date_sent_to_company', 'company_response_to_consumer', 'timely_response', 'consumer_disputed?', 'complaint_id'],\n",
       "        num_rows: 5503\n",
       "    })\n",
       "})"
      ]
     },
     "execution_count": 16,
     "metadata": {},
     "output_type": "execute_result"
    }
   ],
   "source": [
    "# Dataset filters\n",
    "# first row in cfpb_ds[\"train\"] only\n",
    "cfpb_ds = cfpb_ds.filter(\n",
    "    lambda x: ( \n",
    "        x[\"consumer_complaint_narrative\"] != \"consumer_complaint_narrative\" \n",
    "    )\n",
    ")\n",
    "\n",
    "# Filter null narratives\n",
    "print(f\"Total rows (source): {np.sum([i for i in cfpb_ds.num_rows.values()]):,d}\")\n",
    "cfpb_ds = cfpb_ds.filter(\n",
    "    lambda x: (x[\"consumer_complaint_narrative\"] != None \n",
    "               and x[\"product\"] != None\n",
    "               # and x[\"issue\"] != None\n",
    "               # and x[\"company\"] != None\n",
    "               # and (len(x[\"consumer_complaint_narrative\"]) > 10) \n",
    "              )\n",
    ")\n",
    "print(f\"Total rows (filtered): {np.sum([i for i in cfpb_ds.num_rows.values()])}\")\n",
    "print(f\"cfpb_ds.shape (after filter): {cfpb_ds.shape}\")\n",
    "cfpb_ds"
   ]
  },
  {
   "cell_type": "code",
   "execution_count": 17,
   "id": "d09a12f9",
   "metadata": {},
   "outputs": [
    {
     "name": "stdout",
     "output_type": "stream",
     "text": [
      "cfpb_product_names: 11, cfpb_issue_names: 90\n"
     ]
    },
    {
     "data": {
      "text/plain": [
       "{'Bank account or service': 0,\n",
       " 'Consumer Loan': 1,\n",
       " 'Credit card': 2,\n",
       " 'Credit reporting': 3,\n",
       " 'Debt collection': 4,\n",
       " 'Money transfers': 5,\n",
       " 'Mortgage': 6,\n",
       " 'Other financial service': 7,\n",
       " 'Payday loan': 8,\n",
       " 'Prepaid card': 9,\n",
       " 'Student loan': 10}"
      ]
     },
     "execution_count": 17,
     "metadata": {},
     "output_type": "execute_result"
    }
   ],
   "source": [
    "# Labels: product, issue\n",
    "cfpb_product_names = np.unique([p for p in cfpb_ds[\"train\"][\"product\"]])\n",
    "cfpb_issue_names = np.unique([p for p in cfpb_ds[\"train\"][\"issue\"]])\n",
    "\n",
    "cfpb_product_label2int = {l:i for i, l in enumerate(cfpb_product_names)}\n",
    "cfpb_issue_label2int = {l:i for i, l in enumerate(cfpb_issue_names)}\n",
    "\n",
    "print(f\"cfpb_product_names: {len(cfpb_product_names)}, cfpb_issue_names: {len(cfpb_issue_names)}\")\n",
    "cfpb_product_label2int "
   ]
  },
  {
   "cell_type": "code",
   "execution_count": 18,
   "id": "c4225172",
   "metadata": {},
   "outputs": [
    {
     "data": {
      "application/vnd.jupyter.widget-view+json": {
       "model_id": "f55ab68210e14bd19b9661c40b7b6e8d",
       "version_major": 2,
       "version_minor": 0
      },
      "text/plain": [
       "  0%|          | 0/52585 [00:00<?, ?ex/s]"
      ]
     },
     "metadata": {},
     "output_type": "display_data"
    },
    {
     "data": {
      "application/vnd.jupyter.widget-view+json": {
       "model_id": "4fd86f35180443d98f73e61b54b30aa7",
       "version_major": 2,
       "version_minor": 0
      },
      "text/plain": [
       "  0%|          | 0/52585 [00:00<?, ?ex/s]"
      ]
     },
     "metadata": {},
     "output_type": "display_data"
    },
    {
     "data": {
      "application/vnd.jupyter.widget-view+json": {
       "model_id": "623959bed1cc4f238af38cf5eebad93e",
       "version_major": 2,
       "version_minor": 0
      },
      "text/plain": [
       "  0%|          | 0/8718 [00:00<?, ?ex/s]"
      ]
     },
     "metadata": {},
     "output_type": "display_data"
    },
    {
     "data": {
      "application/vnd.jupyter.widget-view+json": {
       "model_id": "fe9cda92e4674da188f36efbb499ff6b",
       "version_major": 2,
       "version_minor": 0
      },
      "text/plain": [
       "  0%|          | 0/8718 [00:00<?, ?ex/s]"
      ]
     },
     "metadata": {},
     "output_type": "display_data"
    },
    {
     "data": {
      "application/vnd.jupyter.widget-view+json": {
       "model_id": "7f76f1a5da14420e8fa289498f9031a7",
       "version_major": 2,
       "version_minor": 0
      },
      "text/plain": [
       "  0%|          | 0/5503 [00:00<?, ?ex/s]"
      ]
     },
     "metadata": {},
     "output_type": "display_data"
    },
    {
     "data": {
      "application/vnd.jupyter.widget-view+json": {
       "model_id": "2057d8d22e0d44fea09eaa5d5a95c248",
       "version_major": 2,
       "version_minor": 0
      },
      "text/plain": [
       "  0%|          | 0/5503 [00:00<?, ?ex/s]"
      ]
     },
     "metadata": {},
     "output_type": "display_data"
    }
   ],
   "source": [
    "# Add pid, wc - product label ids and word counts\n",
    "for split in splits:\n",
    "    cfpb_ds[split] = cfpb_ds[split].map(lambda r: {\"pid\":cfpb_product_label2int[r[\"product\"]]})\n",
    "    cfpb_ds[split] = cfpb_ds[split].map(lambda r: {\"wc\":len(str.split(r[\"consumer_complaint_narrative\"]))})\n",
    "\n",
    "# cfpb_ds"
   ]
  },
  {
   "cell_type": "code",
   "execution_count": 19,
   "id": "13d2bf69",
   "metadata": {},
   "outputs": [
    {
     "name": "stdout",
     "output_type": "stream",
     "text": [
      "cfpb_ds.shape (source): {'train': (52585, 20), 'validation': (8718, 20), 'test': (5503, 20)}\n",
      "cfpb_ds.shape (after): {'train': (52585, 10), 'validation': (8718, 10), 'test': (5503, 10)}\n"
     ]
    },
    {
     "data": {
      "text/plain": [
       "DatasetDict({\n",
       "    train: Dataset({\n",
       "        features: ['date_received', 'product', 'issue', 'consumer_complaint_narrative', 'company', 'state', 'zipcode', 'complaint_id', 'pid', 'wc'],\n",
       "        num_rows: 52585\n",
       "    })\n",
       "    validation: Dataset({\n",
       "        features: ['date_received', 'product', 'issue', 'consumer_complaint_narrative', 'company', 'state', 'zipcode', 'complaint_id', 'pid', 'wc'],\n",
       "        num_rows: 8718\n",
       "    })\n",
       "    test: Dataset({\n",
       "        features: ['date_received', 'product', 'issue', 'consumer_complaint_narrative', 'company', 'state', 'zipcode', 'complaint_id', 'pid', 'wc'],\n",
       "        num_rows: 5503\n",
       "    })\n",
       "})"
      ]
     },
     "execution_count": 19,
     "metadata": {},
     "output_type": "execute_result"
    }
   ],
   "source": [
    "# Drop unneeded columns\n",
    "cfpb_ccd_columns += ['pid', 'wc']\n",
    "cfpb_columns_tcs += ['pid', 'wc']\n",
    "\n",
    "print(f\"cfpb_ds.shape (source): {cfpb_ds.shape}\")\n",
    "columns_to_remove = set(cfpb_columns_tcs).symmetric_difference(cfpb_ccd_columns)\n",
    "cfpb_ds = cfpb_ds.remove_columns(columns_to_remove)\n",
    "print(f\"cfpb_ds.shape (after): {cfpb_ds.shape}\")\n",
    "cfpb_ds"
   ]
  },
  {
   "cell_type": "code",
   "execution_count": 20,
   "id": "bf1f686e",
   "metadata": {},
   "outputs": [
    {
     "data": {
      "text/plain": [
       "{'date_received': ['03/19/2015'],\n",
       " 'product': ['Debt collection'],\n",
       " 'issue': [\"Cont'd attempts collect debt not owed\"],\n",
       " 'consumer_complaint_narrative': ['XXXX has claimed I owe them {$27.00} for XXXX years despite the PROOF of PAYMENT I sent them : canceled check and their ownPAID INVOICE for {$27.00}! \\nThey continue to insist I owe them and collection agencies are after me. \\nHow can I stop this harassment for a bill I already paid four years ago? \\n'],\n",
       " 'company': ['Diversified Consultants, Inc.'],\n",
       " 'state': ['NY'],\n",
       " 'zipcode': ['121XX'],\n",
       " 'complaint_id': ['1290516'],\n",
       " 'pid': [4],\n",
       " 'wc': [55]}"
      ]
     },
     "execution_count": 20,
     "metadata": {},
     "output_type": "execute_result"
    }
   ],
   "source": [
    "# Sample cfpb_ds record\n",
    "num = 1\n",
    "cfpb_ds[\"train\"][:num]"
   ]
  },
  {
   "cell_type": "code",
   "execution_count": 21,
   "id": "f49c39ac",
   "metadata": {},
   "outputs": [
    {
     "name": "stdout",
     "output_type": "stream",
     "text": [
      "cfpb_train_df.shape: (52585, 10)\n"
     ]
    },
    {
     "data": {
      "text/html": [
       "<div>\n",
       "<style scoped>\n",
       "    .dataframe tbody tr th:only-of-type {\n",
       "        vertical-align: middle;\n",
       "    }\n",
       "\n",
       "    .dataframe tbody tr th {\n",
       "        vertical-align: top;\n",
       "    }\n",
       "\n",
       "    .dataframe thead th {\n",
       "        text-align: right;\n",
       "    }\n",
       "</style>\n",
       "<table border=\"1\" class=\"dataframe\">\n",
       "  <thead>\n",
       "    <tr style=\"text-align: right;\">\n",
       "      <th></th>\n",
       "      <th>date_received</th>\n",
       "      <th>product</th>\n",
       "      <th>issue</th>\n",
       "      <th>company</th>\n",
       "      <th>state</th>\n",
       "      <th>zipcode</th>\n",
       "      <th>consumer_complaint_narrative</th>\n",
       "      <th>complaint_id</th>\n",
       "      <th>pid</th>\n",
       "      <th>wc</th>\n",
       "    </tr>\n",
       "  </thead>\n",
       "  <tbody>\n",
       "    <tr>\n",
       "      <th>0</th>\n",
       "      <td>03/19/2015</td>\n",
       "      <td>Debt collection</td>\n",
       "      <td>Cont'd attempts collect debt not owed</td>\n",
       "      <td>Diversified Consultants, Inc.</td>\n",
       "      <td>NY</td>\n",
       "      <td>121XX</td>\n",
       "      <td>XXXX has claimed I owe them {$27.00} for XXXX ...</td>\n",
       "      <td>1290516</td>\n",
       "      <td>4</td>\n",
       "      <td>55</td>\n",
       "    </tr>\n",
       "    <tr>\n",
       "      <th>1</th>\n",
       "      <td>03/19/2015</td>\n",
       "      <td>Consumer Loan</td>\n",
       "      <td>Managing the loan or lease</td>\n",
       "      <td>M&amp;T Bank Corporation</td>\n",
       "      <td>VA</td>\n",
       "      <td>221XX</td>\n",
       "      <td>Due to inconsistencies in the amount owed that...</td>\n",
       "      <td>1290492</td>\n",
       "      <td>1</td>\n",
       "      <td>248</td>\n",
       "    </tr>\n",
       "    <tr>\n",
       "      <th>2</th>\n",
       "      <td>03/19/2015</td>\n",
       "      <td>Mortgage</td>\n",
       "      <td>Loan modification,collection,foreclosure</td>\n",
       "      <td>Wells Fargo &amp; Company</td>\n",
       "      <td>CA</td>\n",
       "      <td>946XX</td>\n",
       "      <td>In XX/XX/XXXX my wages that I earned at my job...</td>\n",
       "      <td>1290524</td>\n",
       "      <td>6</td>\n",
       "      <td>666</td>\n",
       "    </tr>\n",
       "    <tr>\n",
       "      <th>3</th>\n",
       "      <td>03/19/2015</td>\n",
       "      <td>Mortgage</td>\n",
       "      <td>Loan servicing, payments, escrow account</td>\n",
       "      <td>JPMorgan Chase &amp; Co.</td>\n",
       "      <td>CA</td>\n",
       "      <td>900XX</td>\n",
       "      <td>I have an open and current mortgage with Chase...</td>\n",
       "      <td>1290253</td>\n",
       "      <td>6</td>\n",
       "      <td>75</td>\n",
       "    </tr>\n",
       "    <tr>\n",
       "      <th>4</th>\n",
       "      <td>03/19/2015</td>\n",
       "      <td>Mortgage</td>\n",
       "      <td>Credit decision / Underwriting</td>\n",
       "      <td>Rushmore Loan Management Services LLC</td>\n",
       "      <td>CA</td>\n",
       "      <td>956XX</td>\n",
       "      <td>XXXX was submitted XX/XX/XXXX. At the time I s...</td>\n",
       "      <td>1292137</td>\n",
       "      <td>6</td>\n",
       "      <td>259</td>\n",
       "    </tr>\n",
       "  </tbody>\n",
       "</table>\n",
       "</div>"
      ],
      "text/plain": [
       "  date_received          product                                     issue  \\\n",
       "0    03/19/2015  Debt collection     Cont'd attempts collect debt not owed   \n",
       "1    03/19/2015    Consumer Loan                Managing the loan or lease   \n",
       "2    03/19/2015         Mortgage  Loan modification,collection,foreclosure   \n",
       "3    03/19/2015         Mortgage  Loan servicing, payments, escrow account   \n",
       "4    03/19/2015         Mortgage            Credit decision / Underwriting   \n",
       "\n",
       "                                 company state zipcode  \\\n",
       "0          Diversified Consultants, Inc.    NY   121XX   \n",
       "1                   M&T Bank Corporation    VA   221XX   \n",
       "2                  Wells Fargo & Company    CA   946XX   \n",
       "3                   JPMorgan Chase & Co.    CA   900XX   \n",
       "4  Rushmore Loan Management Services LLC    CA   956XX   \n",
       "\n",
       "                        consumer_complaint_narrative complaint_id  pid   wc  \n",
       "0  XXXX has claimed I owe them {$27.00} for XXXX ...      1290516    4   55  \n",
       "1  Due to inconsistencies in the amount owed that...      1290492    1  248  \n",
       "2  In XX/XX/XXXX my wages that I earned at my job...      1290524    6  666  \n",
       "3  I have an open and current mortgage with Chase...      1290253    6   75  \n",
       "4  XXXX was submitted XX/XX/XXXX. At the time I s...      1292137    6  259  "
      ]
     },
     "execution_count": 21,
     "metadata": {},
     "output_type": "execute_result"
    }
   ],
   "source": [
    "# As pandas\n",
    "cfpb_ds.set_format(\"pandas\")\n",
    "cfpb_train_df = cfpb_ds[splits[0]][:]  # \"train\" split\n",
    "cfpb_ds.reset_format() # Reset format\n",
    "\n",
    "print(f\"cfpb_train_df.shape: {cfpb_train_df.shape}\")\n",
    "cfpb_train_df[cfpb_columns_tcs].head()"
   ]
  },
  {
   "cell_type": "code",
   "execution_count": 22,
   "id": "cb767b51",
   "metadata": {},
   "outputs": [
    {
     "name": "stdout",
     "output_type": "stream",
     "text": [
      "LABEL product: 11\t issue: 90\t company: 2116\n"
     ]
    }
   ],
   "source": [
    "# product: only 11 in this sample; 13 in full CFPB 2022 dataset\n",
    "product_cnts = cfpb_train_df[['product']].value_counts()\n",
    "issue_cnts = cfpb_train_df[['issue']].value_counts()\n",
    "company_cnts = cfpb_train_df[['company']].value_counts()\n",
    "print(f\"LABEL product: {len(product_cnts)}\\t issue: {len(issue_cnts)}\\t company: {len(company_cnts)}\")"
   ]
  },
  {
   "cell_type": "code",
   "execution_count": 23,
   "id": "af9cc382",
   "metadata": {},
   "outputs": [
    {
     "name": "stdout",
     "output_type": "stream",
     "text": [
      "Total complaints with narrative: 52,585\n"
     ]
    },
    {
     "data": {
      "image/png": "[encoded data removed]",
      "text/plain": [
       "<Figure size 432x360 with 1 Axes>"
      ]
     },
     "metadata": {
      "needs_background": "light"
     },
     "output_type": "display_data"
    }
   ],
   "source": [
    "# Product histogram: Normalize to 100% total count\n",
    "print(f\"Total complaints with narrative: {cfpb_train_df.shape[0]:,d}\") # ({cwh_notnap:.2f}%)\")\n",
    "title = 'CFPB Label Counts (Product)'\n",
    "xlabel = 'Complaint Count'\n",
    "ylabel = 'CFPB Product Label'\n",
    "# plt.title(title, fontsize=18)\n",
    "ax = cfpb_train_df.groupby([\"product\"]).count()[[\"complaint_id\"]].plot(\n",
    "    kind='barh', figsize=(6,5), grid=True, title=title, ylabel=ylabel,  fontsize=14\n",
    ")\n",
    "_ = ax.set(xlabel=xlabel, ylabel=ylabel)"
   ]
  },
  {
   "cell_type": "code",
   "execution_count": 24,
   "id": "8401fd8c",
   "metadata": {},
   "outputs": [
    {
     "name": "stdout",
     "output_type": "stream",
     "text": [
      "Total complaints with narrative: 52,585\n"
     ]
    },
    {
     "data": {
      "image/png": "[encoded data removed]",
      "text/plain": [
       "<Figure size 504x360 with 1 Axes>"
      ]
     },
     "metadata": {
      "needs_background": "light"
     },
     "output_type": "display_data"
    }
   ],
   "source": [
    "# Histogram: Words\n",
    "print(f\"Total complaints with narrative: {cfpb_train_df.shape[0]:,d}\") # ({cwh_notnap:.2f}%)\")\n",
    "title = 'CFPB Complaint Length in Words'\n",
    "xlabel = 'Complaint Length in Words'\n",
    "ylabel = 'Complaints Count'\n",
    "\n",
    "ax = cfpb_train_df.plot(kind=\"hist\", column=['wc'], bins=50, range=(0, 850), \n",
    "                        title=title, rwidth=0.8, grid=True, figsize=(7, 5))\n",
    "_ = ax.set(xlabel=xlabel, ylabel=ylabel)"
   ]
  },
  {
   "cell_type": "code",
   "execution_count": null,
   "id": "770bddec",
   "metadata": {},
   "outputs": [],
   "source": []
  },
  {
   "cell_type": "markdown",
   "id": "c78922c0",
   "metadata": {},
   "source": [
    "## Compute CFPB \"text\" embeddings\n",
    "\n",
    "* Define document string (\"text\") to encode\n",
    "* Select embedding model: FinBERT, Multi-QA-MPNet, MS-MARCO\n",
    "* Compute dense embeddings\n",
    "\n",
    "Add complaint_words and concatenated text for embeddings.\n",
    "\n",
    "concatenated text fields (from cfpb_columns_tcs): \n",
    "* date_received, product, issue, company, state, zipcode, consumer_complaint_narrative, complaint_id\n"
   ]
  },
  {
   "cell_type": "code",
   "execution_count": 25,
   "id": "cb512e5b",
   "metadata": {},
   "outputs": [
    {
     "data": {
      "application/vnd.jupyter.widget-view+json": {
       "model_id": "1e5387b875cf491ebcc154e5b0c597ea",
       "version_major": 2,
       "version_minor": 0
      },
      "text/plain": [
       "  0%|          | 0/52585 [00:00<?, ?ex/s]"
      ]
     },
     "metadata": {},
     "output_type": "display_data"
    },
    {
     "data": {
      "application/vnd.jupyter.widget-view+json": {
       "model_id": "a113fdc99a0f4665b8c5ee7d28ccf743",
       "version_major": 2,
       "version_minor": 0
      },
      "text/plain": [
       "  0%|          | 0/8718 [00:00<?, ?ex/s]"
      ]
     },
     "metadata": {},
     "output_type": "display_data"
    },
    {
     "data": {
      "application/vnd.jupyter.widget-view+json": {
       "model_id": "2b5c46c864484045a592d4e9b554ec96",
       "version_major": 2,
       "version_minor": 0
      },
      "text/plain": [
       "  0%|          | 0/5503 [00:00<?, ?ex/s]"
      ]
     },
     "metadata": {},
     "output_type": "display_data"
    },
    {
     "name": "stdout",
     "output_type": "stream",
     "text": [
      "cfpb_ds.shape: {'train': (52585, 11), 'validation': (8718, 11), 'test': (5503, 11)}\n",
      "\n",
      "CPU times: user 8.23 s, sys: 219 ms, total: 8.45 s\n",
      "Wall time: 8.46 s\n"
     ]
    },
    {
     "data": {
      "text/plain": [
       "DatasetDict({\n",
       "    train: Dataset({\n",
       "        features: ['date_received', 'product', 'issue', 'consumer_complaint_narrative', 'company', 'state', 'zipcode', 'complaint_id', 'pid', 'wc', 'text'],\n",
       "        num_rows: 52585\n",
       "    })\n",
       "    validation: Dataset({\n",
       "        features: ['date_received', 'product', 'issue', 'consumer_complaint_narrative', 'company', 'state', 'zipcode', 'complaint_id', 'pid', 'wc', 'text'],\n",
       "        num_rows: 8718\n",
       "    })\n",
       "    test: Dataset({\n",
       "        features: ['date_received', 'product', 'issue', 'consumer_complaint_narrative', 'company', 'state', 'zipcode', 'complaint_id', 'pid', 'wc', 'text'],\n",
       "        num_rows: 5503\n",
       "    })\n",
       "})"
      ]
     },
     "execution_count": 25,
     "metadata": {},
     "output_type": "execute_result"
    }
   ],
   "source": [
    "%%time\n",
    "# Add concatenated text column: date_received + product + consumer_complaint_narrative\n",
    "def concatenate_text(row):\n",
    "    # str(): Deal with None - TBD at loading()\n",
    "    text = \"date: \" + str(row[\"date_received\"]) \n",
    "    text += \" \\n product: \" + str(row[\"product\"]) + \" \\n issue: \" + str(row[\"issue\"]) \n",
    "    text += \" \\n company: \" + str(row[\"company\"]) \n",
    "    text += \" \\n state: \" + str(row[\"state\"]) + \" \\n zipcode: \" + str(row[\"zipcode\"]) \n",
    "    text += \" \\n complaint: \" + str(row[\"consumer_complaint_narrative\"])\n",
    "    return {\"text\": text}\n",
    "\n",
    "cfpb_ds = cfpb_ds.map(concatenate_text)\n",
    "print(f\"cfpb_ds.shape: {cfpb_ds.shape}\\n\")\n",
    "cfpb_ds"
   ]
  },
  {
   "cell_type": "code",
   "execution_count": 26,
   "id": "2a843328",
   "metadata": {},
   "outputs": [
    {
     "name": "stderr",
     "output_type": "stream",
     "text": [
      "Some weights of the PyTorch model were not used when initializing the TF 2.0 model TFMPNetModel: ['embeddings.position_ids']\n",
      "- This IS expected if you are initializing TFMPNetModel from a PyTorch model trained on another task or with another architecture (e.g. initializing a TFBertForSequenceClassification model from a BertForPreTraining model).\n",
      "- This IS NOT expected if you are initializing TFMPNetModel from a PyTorch model that you expect to be exactly identical (e.g. initializing a TFBertForSequenceClassification model from a BertForSequenceClassification model).\n",
      "All the weights of TFMPNetModel were initialized from the PyTorch model.\n",
      "If your task is similar to the task the model of the checkpoint was trained on, you can already use TFMPNetModel for predictions without further training.\n"
     ]
    },
    {
     "name": "stdout",
     "output_type": "stream",
     "text": [
      "Model: \"tfmp_net_model\"\n",
      "_________________________________________________________________\n",
      " Layer (type)                Output Shape              Param #   \n",
      "=================================================================\n",
      " mpnet (TFMPNetMainLayer)    multiple                  109486464 \n",
      "                                                                 \n",
      "=================================================================\n",
      "Total params: 109,486,464\n",
      "Trainable params: 109,486,464\n",
      "Non-trainable params: 0\n",
      "_________________________________________________________________\n"
     ]
    }
   ],
   "source": [
    "# Transformer model: Multi-QA-MPNet or ProsusAI/finbert\n",
    "model_ckpt = \"sentence-transformers/multi-qa-mpnet-base-dot-v1\"  # 418 MB, 109M params\n",
    "# model_ckpt = \"ProsusAI/finbert\"\n",
    "tokenizer = hf.AutoTokenizer.from_pretrained(model_ckpt)\n",
    "model = hf.TFAutoModel.from_pretrained(model_ckpt, from_pt=True)\n",
    "\n",
    "def cls_pooling(model_output):\n",
    "    return model_output.last_hidden_state[:, 0]\n",
    "\n",
    "def get_embeddings(text_list):\n",
    "    encoded_input = tokenizer(text_list, padding=True, \n",
    "                              truncation=True, return_tensors=\"tf\")\n",
    "    encoded_input = {k: v for k, v in encoded_input.items()}\n",
    "    model_output = model(**encoded_input)\n",
    "    return cls_pooling(model_output)\n",
    "\n",
    "model.summary()"
   ]
  },
  {
   "cell_type": "code",
   "execution_count": 27,
   "id": "b7138725",
   "metadata": {},
   "outputs": [
    {
     "name": "stdout",
     "output_type": "stream",
     "text": [
      "Loading embeddings: /Users/nelson/dev/nctalks/nlp/search/save/cfpb_qa_mpnet_embeds_20220916\n",
      "\n",
      "TIME start: 2022-09-25 10:08:06.654886, end: 2022-09-25 10:08:06.714134 \n",
      "Total time: 0:00:00.059248\n",
      "\n",
      "embeddings_dataset.column_names: {'train': ['date_received', 'product', 'issue', 'consumer_complaint_narrative', 'company', 'state', 'zipcode', 'complaint_id', 'pid', 'complaint_words', 'text', 'embeddings'], 'validation': ['date_received', 'product', 'issue', 'consumer_complaint_narrative', 'company', 'state', 'zipcode', 'complaint_id', 'pid', 'complaint_words', 'text', 'embeddings'], 'test': ['date_received', 'product', 'issue', 'consumer_complaint_narrative', 'company', 'state', 'zipcode', 'complaint_id', 'pid', 'complaint_words', 'text', 'embeddings']}\n",
      "\n",
      "embeddings_dataset.shape: {'train': (51401, 12), 'validation': (8534, 12), 'test': (5387, 12)}\n",
      "\n",
      "CPU times: user 9.1 ms, sys: 14.8 ms, total: 23.9 ms\n",
      "Wall time: 59.5 ms\n"
     ]
    },
    {
     "data": {
      "text/plain": [
       "DatasetDict({\n",
       "    train: Dataset({\n",
       "        features: ['date_received', 'product', 'issue', 'consumer_complaint_narrative', 'company', 'state', 'zipcode', 'complaint_id', 'pid', 'complaint_words', 'text', 'embeddings'],\n",
       "        num_rows: 51401\n",
       "    })\n",
       "    validation: Dataset({\n",
       "        features: ['date_received', 'product', 'issue', 'consumer_complaint_narrative', 'company', 'state', 'zipcode', 'complaint_id', 'pid', 'complaint_words', 'text', 'embeddings'],\n",
       "        num_rows: 8534\n",
       "    })\n",
       "    test: Dataset({\n",
       "        features: ['date_received', 'product', 'issue', 'consumer_complaint_narrative', 'company', 'state', 'zipcode', 'complaint_id', 'pid', 'complaint_words', 'text', 'embeddings'],\n",
       "        num_rows: 5387\n",
       "    })\n",
       "})"
      ]
     },
     "execution_count": 27,
     "metadata": {},
     "output_type": "execute_result"
    }
   ],
   "source": [
    "%%time\n",
    "# Run: Multi-QA-MPNet or ProsusAI/finbert\n",
    "\n",
    "dataset_save_dir = \"./\"\n",
    "dataset_save_dir = \"/Users/nelson/dev/nctalks/nlp/search/save/\"\n",
    "faiss_embeddings_dataset_dir = \"cfpb_finbert_embeds_20220914\"   # FinBERT\n",
    "faiss_embeddings_dataset_dir = \"cfpb_qa_mpnet_embeds_20220916\"  # QA MPNet\n",
    "dataset_path = dataset_save_dir+faiss_embeddings_dataset_dir\n",
    "\n",
    "run_cell = False   # Change to True to compute embeddings (~5 hours runtime on cpu)\n",
    "tstart = datetime.now()\n",
    "if run_cell:\n",
    "    print(f\"Computing embeddings_dataset: {tstart}\")\n",
    "    embeddings_dataset = cfpb_ds.map(\n",
    "        lambda x: {\"embeddings\": get_embeddings(x[\"text\"]).numpy()[0]}\n",
    "    )\n",
    "    print(f\"Saving embeddings: {dataset_path}\\n\")\n",
    "    embeddings_dataset.save_to_disk(dataset_dict_path=dataset_path)\n",
    "else:\n",
    "    print(f\"Loading embeddings: {dataset_path}\\n\")\n",
    "    embeddings_dataset = hfds.load_from_disk(dataset_path=dataset_path)\n",
    "\n",
    "tend = datetime.now()\n",
    "print(f\"TIME start: {tstart}, end: {tend} \\nTotal time: {tend-tstart}\\n\")\n",
    "print(f\"embeddings_dataset.column_names: {embeddings_dataset.column_names}\\n\")\n",
    "print(f\"embeddings_dataset.shape: {embeddings_dataset.shape}\\n\")\n",
    "embeddings_dataset"
   ]
  },
  {
   "cell_type": "code",
   "execution_count": 28,
   "id": "a11e30eb",
   "metadata": {},
   "outputs": [
    {
     "data": {
      "text/plain": [
       "['date: 12/18/2015 \\n product: Mortgage \\n issue: Loan modification,collection,foreclosure \\n company: Citibank \\n state: CA \\n zipcode: 930XX \\n complaint: I am filing a complaint against Citi Mortgage regarding my review for a XXXX loan modification under the HAMP program. I successfully submitted a workout packet to the servicer. I was told repeatedly that I was quote \" in review \\'\\' and that the file was being reviewed for home retention under the Government program. I am currently in a toxic interest only loan that is going to reset and my mortgage payment is going to skyrocket, making it impossible to keep my home. I finally received a decision and spoke with my single point of contact XXXX XXXX who stated. \" Because you are not late XXXX XXXX you been denied a loan modification. I was provided the net present value findings, some of which were not even properly reviewed. They were left blank. I have opened up a dispute with Citi Mortgage and am soliciting an official complaint with the Consumer Federal Protection Bureau. Citi Mortgage is in violation of a Treasury Guideline under the Making Homes Affordable Program. Citi Mortgage egregious behavior is without questions unlawful. I am asking for a proper review and subsequent approval of my loan modification, which will enable me to keep my home. \\n']"
      ]
     },
     "execution_count": 28,
     "metadata": {},
     "output_type": "execute_result"
    }
   ],
   "source": [
    "# Last search text\n",
    "embeddings_dataset[\"train\"][\"text\"][-1:]"
   ]
  },
  {
   "cell_type": "markdown",
   "id": "7ba956c2",
   "metadata": {},
   "source": [
    "## Add FAISS indexing \n",
    "\n",
    "Index document collection (CFPB embeddings_dataset[\"train\"])"
   ]
  },
  {
   "cell_type": "code",
   "execution_count": 29,
   "id": "bc27e608",
   "metadata": {},
   "outputs": [
    {
     "data": {
      "text/plain": [
       "False"
      ]
     },
     "execution_count": 29,
     "metadata": {},
     "output_type": "execute_result"
    }
   ],
   "source": [
    "# FAISS indexing\n",
    "embeddings_dataset[\"train\"].is_index_initialized(index_name=\"embeddings\")"
   ]
  },
  {
   "cell_type": "code",
   "execution_count": 30,
   "id": "8b6ddd8c",
   "metadata": {},
   "outputs": [
    {
     "data": {
      "application/vnd.jupyter.widget-view+json": {
       "model_id": "ba16525e0fb14a3e85ac98262c5834f8",
       "version_major": 2,
       "version_minor": 0
      },
      "text/plain": [
       "  0%|          | 0/52 [00:00<?, ?it/s]"
      ]
     },
     "metadata": {},
     "output_type": "display_data"
    },
    {
     "name": "stdout",
     "output_type": "stream",
     "text": [
      "embeddings_dataset['train'].shape: (51401, 12)\n",
      "FAISS index initialized: True\n"
     ]
    }
   ],
   "source": [
    "# Add Elasticsearch index\n",
    "embeddings_dataset[\"train\"].add_faiss_index(column=\"embeddings\")\n",
    "print(f\"embeddings_dataset['train'].shape: {embeddings_dataset['train'].shape}\")\n",
    "print(f\"FAISS index initialized: {embeddings_dataset['train'].is_index_initialized(index_name='embeddings')}\")"
   ]
  },
  {
   "cell_type": "code",
   "execution_count": 31,
   "id": "d1267936",
   "metadata": {},
   "outputs": [
    {
     "data": {
      "text/plain": [
       "Dataset({\n",
       "    features: ['date_received', 'product', 'issue', 'consumer_complaint_narrative', 'company', 'state', 'zipcode', 'complaint_id', 'pid', 'complaint_words', 'text', 'embeddings'],\n",
       "    num_rows: 51401\n",
       "})"
      ]
     },
     "execution_count": 31,
     "metadata": {},
     "output_type": "execute_result"
    }
   ],
   "source": [
    "embeddings_dataset[\"train\"]"
   ]
  },
  {
   "cell_type": "markdown",
   "id": "f640c29a",
   "metadata": {},
   "source": [
    "<hr/>\n",
    "\n",
    "# Embeddings Visualization via UMAP\n",
    "\n",
    "Embedded text includes structured fields\n",
    "\n",
    "## Color map\n",
    "* Data classes, per label\n"
   ]
  },
  {
   "cell_type": "code",
   "execution_count": 32,
   "id": "ed10ea6c",
   "metadata": {},
   "outputs": [
    {
     "name": "stdout",
     "output_type": "stream",
     "text": [
      "Unique labels: 11\n",
      "Labels: [ 0  1  2  3  4  5  6  7  8  9 10]\n",
      "Label names: ['Bank account or service' 'Consumer Loan' 'Credit card'\n",
      " 'Credit reporting' 'Debt collection' 'Money transfers' 'Mortgage'\n",
      " 'Other financial service' 'Payday loan' 'Prepaid card' 'Student loan']\n"
     ]
    }
   ],
   "source": [
    "# Data rows to visualize\n",
    "num_recs = 10000\n",
    "X_viz = np.array(embeddings_dataset[\"train\"][:num_recs][\"embeddings\"])\n",
    "y_viz = np.array(embeddings_dataset[\"train\"][:num_recs][\"pid\"])\n",
    "y_viz_names = np.array(embeddings_dataset[\"train\"][:num_recs][\"product\"])\n",
    "\n",
    "labels = np.unique(y_viz)\n",
    "label_names = np.unique(y_viz_names)\n",
    "\n",
    "print(f\"Unique labels: {len(labels)}\")\n",
    "print(f\"Labels: {labels}\")\n",
    "print(f\"Label names: {label_names}\")"
   ]
  },
  {
   "cell_type": "code",
   "execution_count": 33,
   "id": "e3ca63ee",
   "metadata": {},
   "outputs": [
    {
     "name": "stderr",
     "output_type": "stream",
     "text": [
      "OMP: Info #271: omp_set_nested routine deprecated, please use omp_set_max_active_levels instead.\n"
     ]
    },
    {
     "name": "stdout",
     "output_type": "stream",
     "text": [
      "X_min_max: [-4.8856106, 14.506257], Y_min_max: [-3.5445027, 14.0405035]\n",
      "Input embeddings shape: (10000, 768), UMAP 2D X_viz_2d shape: (10000, 3)\n",
      "\n"
     ]
    },
    {
     "data": {
      "text/html": [
       "<div>\n",
       "<style scoped>\n",
       "    .dataframe tbody tr th:only-of-type {\n",
       "        vertical-align: middle;\n",
       "    }\n",
       "\n",
       "    .dataframe tbody tr th {\n",
       "        vertical-align: top;\n",
       "    }\n",
       "\n",
       "    .dataframe thead th {\n",
       "        text-align: right;\n",
       "    }\n",
       "</style>\n",
       "<table border=\"1\" class=\"dataframe\">\n",
       "  <thead>\n",
       "    <tr style=\"text-align: right;\">\n",
       "      <th></th>\n",
       "      <th>X</th>\n",
       "      <th>Y</th>\n",
       "      <th>Label</th>\n",
       "    </tr>\n",
       "  </thead>\n",
       "  <tbody>\n",
       "    <tr>\n",
       "      <th>0</th>\n",
       "      <td>12.901473</td>\n",
       "      <td>3.118240</td>\n",
       "      <td>4</td>\n",
       "    </tr>\n",
       "    <tr>\n",
       "      <th>1</th>\n",
       "      <td>10.367685</td>\n",
       "      <td>11.637090</td>\n",
       "      <td>1</td>\n",
       "    </tr>\n",
       "    <tr>\n",
       "      <th>2</th>\n",
       "      <td>-2.175003</td>\n",
       "      <td>6.166406</td>\n",
       "      <td>6</td>\n",
       "    </tr>\n",
       "    <tr>\n",
       "      <th>3</th>\n",
       "      <td>-1.672962</td>\n",
       "      <td>4.548354</td>\n",
       "      <td>6</td>\n",
       "    </tr>\n",
       "    <tr>\n",
       "      <th>4</th>\n",
       "      <td>-1.332795</td>\n",
       "      <td>6.037635</td>\n",
       "      <td>6</td>\n",
       "    </tr>\n",
       "  </tbody>\n",
       "</table>\n",
       "</div>"
      ],
      "text/plain": [
       "           X          Y  Label\n",
       "0  12.901473   3.118240      4\n",
       "1  10.367685  11.637090      1\n",
       "2  -2.175003   6.166406      6\n",
       "3  -1.672962   4.548354      6\n",
       "4  -1.332795   6.037635      6"
      ]
     },
     "execution_count": 33,
     "metadata": {},
     "output_type": "execute_result"
    }
   ],
   "source": [
    "from umap import UMAP\n",
    "from sklearn.preprocessing import MinMaxScaler\n",
    "\n",
    "X_normalized = sklearn.preprocessing.MinMaxScaler().fit_transform(X_viz) # Scale embeddings to [0,1]\n",
    "umapper = UMAP(n_components=2, metric=\"cosine\").fit(X_normalized)\n",
    "X_viz_2d = pd.DataFrame(umapper.embedding_, columns=[\"X\", \"Y\"])\n",
    "X_viz_2d[\"Label\"] = y_viz\n",
    "\n",
    "# UMAP min, max\n",
    "X_min_max = [X_viz_2d[\"X\"].min(), X_viz_2d[\"X\"].max()]\n",
    "Y_min_max = [X_viz_2d[\"Y\"].min(),  X_viz_2d[\"Y\"].max()]\n",
    "print(f\"X_min_max: {X_min_max}, Y_min_max: {Y_min_max}\")\n",
    "print(f\"Input embeddings shape: {X_viz.shape}, UMAP 2D X_viz_2d shape: {X_viz_2d.shape}\\n\")\n",
    "\n",
    "X_viz_2d.head()"
   ]
  },
  {
   "cell_type": "code",
   "execution_count": 34,
   "id": "d57db99a",
   "metadata": {},
   "outputs": [
    {
     "data": {
      "text/html": [
       "<div>\n",
       "<style scoped>\n",
       "    .dataframe tbody tr th:only-of-type {\n",
       "        vertical-align: middle;\n",
       "    }\n",
       "\n",
       "    .dataframe tbody tr th {\n",
       "        vertical-align: top;\n",
       "    }\n",
       "\n",
       "    .dataframe thead th {\n",
       "        text-align: right;\n",
       "    }\n",
       "</style>\n",
       "<table border=\"1\" class=\"dataframe\">\n",
       "  <thead>\n",
       "    <tr style=\"text-align: right;\">\n",
       "      <th></th>\n",
       "      <th>count</th>\n",
       "      <th>mean</th>\n",
       "      <th>std</th>\n",
       "      <th>min</th>\n",
       "      <th>50%</th>\n",
       "      <th>max</th>\n",
       "    </tr>\n",
       "  </thead>\n",
       "  <tbody>\n",
       "    <tr>\n",
       "      <th>X</th>\n",
       "      <td>10000.0</td>\n",
       "      <td>5.737819</td>\n",
       "      <td>5.669635</td>\n",
       "      <td>-4.885611</td>\n",
       "      <td>5.236123</td>\n",
       "      <td>14.506257</td>\n",
       "    </tr>\n",
       "    <tr>\n",
       "      <th>Y</th>\n",
       "      <td>10000.0</td>\n",
       "      <td>5.706177</td>\n",
       "      <td>3.957396</td>\n",
       "      <td>-3.544503</td>\n",
       "      <td>5.018443</td>\n",
       "      <td>14.040504</td>\n",
       "    </tr>\n",
       "    <tr>\n",
       "      <th>Label</th>\n",
       "      <td>10000.0</td>\n",
       "      <td>3.955200</td>\n",
       "      <td>2.282436</td>\n",
       "      <td>0.000000</td>\n",
       "      <td>4.000000</td>\n",
       "      <td>10.000000</td>\n",
       "    </tr>\n",
       "  </tbody>\n",
       "</table>\n",
       "</div>"
      ],
      "text/plain": [
       "         count      mean       std       min       50%        max\n",
       "X      10000.0  5.737819  5.669635 -4.885611  5.236123  14.506257\n",
       "Y      10000.0  5.706177  3.957396 -3.544503  5.018443  14.040504\n",
       "Label  10000.0  3.955200  2.282436  0.000000  4.000000  10.000000"
      ]
     },
     "execution_count": 34,
     "metadata": {},
     "output_type": "execute_result"
    }
   ],
   "source": [
    "# UMAP stats\n",
    "X_viz_2d.describe(percentiles=[0.5]).T"
   ]
  },
  {
   "cell_type": "code",
   "execution_count": 35,
   "id": "110d5c70",
   "metadata": {},
   "outputs": [
    {
     "data": {
      "image/png": "[encoded data removed]",
      "text/plain": [
       "<Figure size 936x720 with 12 Axes>"
      ]
     },
     "metadata": {
      "needs_background": "light"
     },
     "output_type": "display_data"
    }
   ],
   "source": [
    "# Plot UMAP: 3x4 rows x cols\n",
    "\n",
    "figsize = (13, 10)\n",
    "fig, axes = plt.subplots(3, 4, figsize=figsize)\n",
    "axes = axes.flatten()\n",
    "cmaps = [\"Greys\", \"Blues\", \"Oranges\", \"Reds\", \"Purples\", \"Greens\", \n",
    "         \"Greys\", \"Blues\", \"Oranges\", \"Reds\", \"Purples\", \"Greens\"\n",
    "        ]\n",
    "extent = X_min_max + Y_min_max\n",
    "title = f\"2D-UMAP: CFPB Dense Text Embeddings, by 'product' (instances) in {X_viz_2d.shape[0]:,d} complaints\"\n",
    "plt.suptitle(title)\n",
    "\n",
    "for i, (label, label_name, cmap) in enumerate(zip(labels, label_names, cmaps)):\n",
    "    X_viz_2d_sub = X_viz_2d.query(f\"Label == {i}\")\n",
    "    axes[i].hexbin(X_viz_2d_sub[\"X\"], X_viz_2d_sub[\"Y\"], # bins=\"log\", \n",
    "                   cmap=cmap, extent=extent, gridsize=20, linewidths=(0,))\n",
    "    sub_label_name = f\"{label_name} ({X_viz_2d_sub.shape[0]:,d})\"\n",
    "    axes[i].set_title(sub_label_name)\n",
    "\n",
    "plt.tight_layout()\n",
    "plt.show()"
   ]
  },
  {
   "cell_type": "code",
   "execution_count": null,
   "id": "d38bfe81",
   "metadata": {},
   "outputs": [],
   "source": []
  },
  {
   "cell_type": "markdown",
   "id": "6615ae8f",
   "metadata": {},
   "source": [
    "<hr/>\n",
    "\n",
    "# Sample CFPB queries¶\n",
    "\n"
   ]
  },
  {
   "cell_type": "code",
   "execution_count": 36,
   "id": "35c5faba",
   "metadata": {},
   "outputs": [
    {
     "name": "stdout",
     "output_type": "stream",
     "text": [
      "CPU times: user 266 ms, sys: 18.4 ms, total: 284 ms\n",
      "Wall time: 142 ms\n",
      "query_embedding.shape: (1, 768)\n"
     ]
    },
    {
     "data": {
      "text/html": [
       "<div>\n",
       "<style scoped>\n",
       "    .dataframe tbody tr th:only-of-type {\n",
       "        vertical-align: middle;\n",
       "    }\n",
       "\n",
       "    .dataframe tbody tr th {\n",
       "        vertical-align: top;\n",
       "    }\n",
       "\n",
       "    .dataframe thead th {\n",
       "        text-align: right;\n",
       "    }\n",
       "</style>\n",
       "<table border=\"1\" class=\"dataframe\">\n",
       "  <thead>\n",
       "    <tr style=\"text-align: right;\">\n",
       "      <th></th>\n",
       "      <th>0</th>\n",
       "      <th>1</th>\n",
       "      <th>2</th>\n",
       "      <th>3</th>\n",
       "      <th>4</th>\n",
       "      <th>5</th>\n",
       "      <th>6</th>\n",
       "      <th>7</th>\n",
       "      <th>8</th>\n",
       "      <th>9</th>\n",
       "      <th>...</th>\n",
       "      <th>758</th>\n",
       "      <th>759</th>\n",
       "      <th>760</th>\n",
       "      <th>761</th>\n",
       "      <th>762</th>\n",
       "      <th>763</th>\n",
       "      <th>764</th>\n",
       "      <th>765</th>\n",
       "      <th>766</th>\n",
       "      <th>767</th>\n",
       "    </tr>\n",
       "  </thead>\n",
       "  <tbody>\n",
       "    <tr>\n",
       "      <th>0</th>\n",
       "      <td>0.00289</td>\n",
       "      <td>-0.260334</td>\n",
       "      <td>-0.230666</td>\n",
       "      <td>0.001826</td>\n",
       "      <td>0.288046</td>\n",
       "      <td>-0.162594</td>\n",
       "      <td>0.301668</td>\n",
       "      <td>-0.276625</td>\n",
       "      <td>0.018368</td>\n",
       "      <td>0.168028</td>\n",
       "      <td>...</td>\n",
       "      <td>-0.074034</td>\n",
       "      <td>0.057401</td>\n",
       "      <td>-0.236056</td>\n",
       "      <td>0.042297</td>\n",
       "      <td>-0.004936</td>\n",
       "      <td>0.019822</td>\n",
       "      <td>0.403327</td>\n",
       "      <td>-0.070349</td>\n",
       "      <td>-0.142917</td>\n",
       "      <td>0.304967</td>\n",
       "    </tr>\n",
       "  </tbody>\n",
       "</table>\n",
       "<p>1 rows × 768 columns</p>\n",
       "</div>"
      ],
      "text/plain": [
       "       0         1         2         3         4         5         6    \\\n",
       "0  0.00289 -0.260334 -0.230666  0.001826  0.288046 -0.162594  0.301668   \n",
       "\n",
       "        7         8         9    ...       758       759       760       761  \\\n",
       "0 -0.276625  0.018368  0.168028  ... -0.074034  0.057401 -0.236056  0.042297   \n",
       "\n",
       "        762       763       764       765       766       767  \n",
       "0 -0.004936  0.019822  0.403327 -0.070349 -0.142917  0.304967  \n",
       "\n",
       "[1 rows x 768 columns]"
      ]
     },
     "execution_count": 36,
     "metadata": {},
     "output_type": "execute_result"
    }
   ],
   "source": [
    "# CFPB dataset question & embed: FinBERT\n",
    "query = \"there is incorrect information on my credit report\"\n",
    "query = \"mortgage denied because of discrimination\"\n",
    "query = \"bank opened unauthorized account\"\n",
    "%time query_embedding = get_embeddings([query]).numpy()\n",
    "print(f\"query_embedding.shape: {query_embedding.shape}\")\n",
    "pd.DataFrame(query_embedding, columns=None)"
   ]
  },
  {
   "cell_type": "code",
   "execution_count": 37,
   "id": "02c666e5",
   "metadata": {},
   "outputs": [
    {
     "name": "stdout",
     "output_type": "stream",
     "text": [
      "CPU times: user 295 ms, sys: 14 ms, total: 309 ms\n",
      "Wall time: 143 ms\n",
      "\n",
      "Query: there is incorrect information on my credit report\n",
      "\n"
     ]
    },
    {
     "data": {
      "text/html": [
       "<div>\n",
       "<style scoped>\n",
       "    .dataframe tbody tr th:only-of-type {\n",
       "        vertical-align: middle;\n",
       "    }\n",
       "\n",
       "    .dataframe tbody tr th {\n",
       "        vertical-align: top;\n",
       "    }\n",
       "\n",
       "    .dataframe thead th {\n",
       "        text-align: right;\n",
       "    }\n",
       "</style>\n",
       "<table border=\"1\" class=\"dataframe\">\n",
       "  <thead>\n",
       "    <tr style=\"text-align: right;\">\n",
       "      <th></th>\n",
       "      <th>date_received</th>\n",
       "      <th>product</th>\n",
       "      <th>company</th>\n",
       "      <th>consumer_complaint_narrative</th>\n",
       "      <th>complaint_id</th>\n",
       "      <th>score</th>\n",
       "    </tr>\n",
       "  </thead>\n",
       "  <tbody>\n",
       "    <tr>\n",
       "      <th>0</th>\n",
       "      <td>11/03/2015</td>\n",
       "      <td>Credit reporting</td>\n",
       "      <td>Equifax</td>\n",
       "      <td>I an writing in regards to my credit balance w...</td>\n",
       "      <td>1636731</td>\n",
       "      <td>20.441261</td>\n",
       "    </tr>\n",
       "    <tr>\n",
       "      <th>1</th>\n",
       "      <td>09/02/2015</td>\n",
       "      <td>Credit reporting</td>\n",
       "      <td>Equifax</td>\n",
       "      <td>This account was paid Contacted XXXX XXXX twic...</td>\n",
       "      <td>1548154</td>\n",
       "      <td>20.398182</td>\n",
       "    </tr>\n",
       "    <tr>\n",
       "      <th>2</th>\n",
       "      <td>08/26/2015</td>\n",
       "      <td>Credit reporting</td>\n",
       "      <td>Equifax</td>\n",
       "      <td>I submitted a fax claiming that it was fraud a...</td>\n",
       "      <td>1538562</td>\n",
       "      <td>20.375984</td>\n",
       "    </tr>\n",
       "    <tr>\n",
       "      <th>3</th>\n",
       "      <td>01/01/2016</td>\n",
       "      <td>Credit reporting</td>\n",
       "      <td>Experian</td>\n",
       "      <td>same as i have been trying to get worked out, ...</td>\n",
       "      <td>1724698</td>\n",
       "      <td>20.355633</td>\n",
       "    </tr>\n",
       "    <tr>\n",
       "      <th>4</th>\n",
       "      <td>10/07/2015</td>\n",
       "      <td>Credit reporting</td>\n",
       "      <td>Equifax</td>\n",
       "      <td>I have paid the debt in full and was told by c...</td>\n",
       "      <td>1596236</td>\n",
       "      <td>20.298042</td>\n",
       "    </tr>\n",
       "  </tbody>\n",
       "</table>\n",
       "</div>"
      ],
      "text/plain": [
       "  date_received           product   company  \\\n",
       "0    11/03/2015  Credit reporting   Equifax   \n",
       "1    09/02/2015  Credit reporting   Equifax   \n",
       "2    08/26/2015  Credit reporting   Equifax   \n",
       "3    01/01/2016  Credit reporting  Experian   \n",
       "4    10/07/2015  Credit reporting   Equifax   \n",
       "\n",
       "                        consumer_complaint_narrative complaint_id      score  \n",
       "0  I an writing in regards to my credit balance w...      1636731  20.441261  \n",
       "1  This account was paid Contacted XXXX XXXX twic...      1548154  20.398182  \n",
       "2  I submitted a fax claiming that it was fraud a...      1538562  20.375984  \n",
       "3  same as i have been trying to get worked out, ...      1724698  20.355633  \n",
       "4  I have paid the debt in full and was told by c...      1596236  20.298042  "
      ]
     },
     "execution_count": 37,
     "metadata": {},
     "output_type": "execute_result"
    }
   ],
   "source": [
    "# %%time\n",
    "# Query search\n",
    "query = \"the bank opened an unauthorized account\"\n",
    "query = \"there is incorrect information on my credit report\"\n",
    "%time query_embedding = get_embeddings([query]).numpy()\n",
    "dsq_column_display = ['date_received', 'product', 'company', 'consumer_complaint_narrative', \n",
    "                      'complaint_id', 'score']\n",
    "\n",
    "\n",
    "# Score and return top-k: FinBERT\n",
    "num_k = 20\n",
    "scores, samples = embeddings_dataset[\"train\"].get_nearest_examples(\n",
    "    \"embeddings\", query_embedding, k=num_k\n",
    ")\n",
    "\n",
    "# Top-k scored results dataframe\n",
    "print(f\"\\nQuery: {query}\\n\")\n",
    "samples_df = pd.DataFrame.from_dict(samples)\n",
    "samples_df[\"score\"] = scores\n",
    "samples_df.sort_values(\"score\", ascending=False, inplace=True, ignore_index=True)\n",
    "samples_df[dsq_column_display].head()"
   ]
  },
  {
   "cell_type": "code",
   "execution_count": 40,
   "id": "1e3992fe",
   "metadata": {},
   "outputs": [],
   "source": [
    "def cfpb_complaint2html(i: int, cid: int, score=0.0, cclen=1000):\n",
    "    \"\"\" cid: complaint_id; return complaint html \"\"\"\n",
    "    row_html = \"\"\n",
    "    for _, r in cfpb_train_df.query(\"complaint_id==@cid\").iterrows():\n",
    "        ccn = r.consumer_complaint_narrative[:cclen]\n",
    "        ccn = ccn.replace('$', '\\$').replace('<', '$lt;').replace('>', '&gt;')\n",
    "        ccn = ccn.replace('\\n', '<br/>')\n",
    "        cidstr, ccn = str(r.complaint_id), ccn \n",
    "        row_header = f\"<h4>[{i+1:3,d}] - complaint_id: {cidstr}, date: {r.date_received}, score: {score:.2f} </h4>\"\n",
    "        row_ccn = f\"<p>{ccn}</p> \"\n",
    "        prod = r[\"product\"] # r.product\n",
    "        row_tags = f\"<p>company: <i>{r.company}</i>, product: <i>{prod}</i>, issue: <i>{r.issue}</i></p>\"\n",
    "        row_html += f\"<div> {row_header} \\n {row_ccn} \\n {row_tags} <hr/> </div>\"\n",
    "    return row_html\n",
    "\n",
    "def cfpb_display_results(query, results_df, max_results=10, cclen=1000):\n",
    "    results_html = \"\"\n",
    "    results_html += f\"<div><h3><i>Query</i>: <span>{query}</span></h3></div>\"\n",
    "    for i, row in samples_df[:max_results].iterrows():\n",
    "        cid = str(row.complaint_id)\n",
    "        score = row.score\n",
    "        results_html += cfpb_complaint2html(i, cid, score=score, cclen=cclen)\n",
    "    display(HTML(results_html))\n",
    "    print(f\"Dispayed {max_results} results\")\n",
    "    return None\n",
    "\n",
    "def embeddings_search(query, dc_dataset=embeddings_dataset, top_k=num_k, max_complains=5, cclen=1000):\n",
    "    query_embedding = get_embeddings([query]).numpy()\n",
    "    scores, samples = embeddings_dataset[\"train\"].get_nearest_examples(\n",
    "        \"embeddings\", query_embedding, k=top_k\n",
    "    )\n",
    "    # Top-k scored results dataframe\n",
    "    samples_df = pd.DataFrame.from_dict(samples)\n",
    "    samples_df[\"score\"] = scores\n",
    "    samples_df.sort_values(\"score\", ascending=False, inplace=True, ignore_index=True)\n",
    "    # Display results\n",
    "    cfpb_display_results(query, samples_df, max_results=max_complains, cclen=cclen)\n",
    "    print(f\"Collection size: {embeddings_dataset['train'].num_rows:,d}, num_results: {num_k}\")\n",
    "    return None"
   ]
  },
  {
   "cell_type": "code",
   "execution_count": 41,
   "id": "d4233583",
   "metadata": {},
   "outputs": [
    {
     "data": {
      "text/html": [
       "<div><h3><i>Query</i>: <span>there is incorrect information on my credit report</span></h3></div><div> <h4>[  1] - complaint_id: 1636731, date: 11/03/2015, score: 20.44 </h4> \n",
       " <p>I an writing in regards to my credit balance with XXXX XXXX XXXX. I currently have a maximum credit limit available to me of {\\$800.00}, which I have owed over {\\$790.00}. However, I have paid this credit card down to {\\$280.00} and this amount has not been reported on my credit report. Therefore, my credit card utilization is incorrect and reflects inaccurate information ... which has reduced my credit score. <br/></p>  \n",
       " <p>company: <i>Equifax</i>, product: <i>Credit reporting</i>, issue: <i>Incorrect information on credit report</i></p> <hr/> </div><div> <h4>[  2] - complaint_id: 1548154, date: 09/02/2015, score: 20.40 </h4> \n",
       " <p>This account was paid Contacted XXXX XXXX twice for payments arrangements they ignored my requests before it went to collections Contacted collection agency and informed them that I had contacted XXXX XXXX twice to set up payments and was ignored and I would be sending payments directly to XXXX XXXX I started making payments XX/XX/XXXX and paid off the account in XX/XX/XXXX I paid {\\$50.00} monthly This account should have never been a collection/charge off I made a good faith offer to pay this bill prior to them charging it off I became unemployed but still tried to pay this bill when I fell behind in payments XXXX XXXX ignored my requests I wrote to them and was ignored <br/></p>  \n",
       " <p>company: <i>Equifax</i>, product: <i>Credit reporting</i>, issue: <i>Incorrect information on credit report</i></p> <hr/> </div><div> <h4>[  3] - complaint_id: 1538562, date: 08/26/2015, score: 20.38 </h4> \n",
       " <p>I submitted a fax claiming that it was fraud and they never got back to me. <br/></p>  \n",
       " <p>company: <i>Equifax</i>, product: <i>Credit reporting</i>, issue: <i>Incorrect information on credit report</i></p> <hr/> </div><div> <h4>[  4] - complaint_id: 1724698, date: 01/01/2016, score: 20.36 </h4> \n",
       " <p>same as i have been trying to get worked out, ex wife is upset over her having to pay me child support so her way of getting back is using my info to try and ruin my credit. STOP LETTING IT HAPPEN. <br/><br/><br/>XXXX Account Number XXXX -- -- -reports late thought its been years since this happened XXXX XXXX XXXX XXXX XXXX Account Number XXXX -- -- -- -- -reports late though its been years since this happened XXXX XXXX Account Number XXXX -- -- -- limit is XXXX XXXX XXXX XXXX XXXX Account Number XXXX -- -- reporting lates from years go XXXX XXXX XXXX XXXX Account Number XXXX -- -- reporting lates from years ago XXXX XXXX Account Number XXXX -- -- -- lates from years ago Status Closed Balance {\\$0.00} Type Installment Loan Payment Status Unknown XXXX XXXX XXXX XXXX Status Closed Balance {\\$0.00} Type Installment Loan Payment Status Unknown XXXX XXXX XXXX XXXX Status Closed Balance {\\$0.00} Type Installment Loan Payment Status Unknown XXXX XXXX XXXX XXXX Status Closed Balance {\\$0.00} Type Installment </p>  \n",
       " <p>company: <i>Experian</i>, product: <i>Credit reporting</i>, issue: <i>Incorrect information on credit report</i></p> <hr/> </div><div> <h4>[  5] - complaint_id: 1596236, date: 10/07/2015, score: 20.30 </h4> \n",
       " <p>I have paid the debt in full and was told by creditors that this would be removed from my credit report. <br/></p>  \n",
       " <p>company: <i>Equifax</i>, product: <i>Credit reporting</i>, issue: <i>Incorrect information on credit report</i></p> <hr/> </div>"
      ],
      "text/plain": [
       "<IPython.core.display.HTML object>"
      ]
     },
     "metadata": {},
     "output_type": "display_data"
    },
    {
     "name": "stdout",
     "output_type": "stream",
     "text": [
      "Dispayed 5 results\n",
      "Collection size: 51,401, num_results: 20\n"
     ]
    }
   ],
   "source": [
    "# Sample queries\n",
    "query = \"the bank opened an unauthorized account\"\n",
    "query = \"there is incorrect information on my credit report\"\n",
    "\n",
    "embeddings_search(query, dc_dataset=embeddings_dataset, top_k=num_k, max_complains=5, cclen=1000)"
   ]
  },
  {
   "cell_type": "code",
   "execution_count": null,
   "id": "8ff86986",
   "metadata": {},
   "outputs": [],
   "source": []
  },
  {
   "cell_type": "code",
   "execution_count": null,
   "id": "3cf9a768",
   "metadata": {},
   "outputs": [],
   "source": [
    "### EOF"
   ]
  }
 ],
 "metadata": {
  "kernelspec": {
   "display_name": "Python 3 (ipykernel)",
   "language": "python",
   "name": "python3"
  },
  "language_info": {
   "codemirror_mode": {
    "name": "ipython",
    "version": 3
   },
   "file_extension": ".py",
   "mimetype": "text/x-python",
   "name": "python",
   "nbconvert_exporter": "python",
   "pygments_lexer": "ipython3",
   "version": "3.9.12"
  }
 },
 "nbformat": 4,
 "nbformat_minor": 5
}
